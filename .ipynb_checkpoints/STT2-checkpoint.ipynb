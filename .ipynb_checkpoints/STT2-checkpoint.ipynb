{
 "cells": [
  {
   "cell_type": "markdown",
   "id": "b8ecef1d",
   "metadata": {},
   "source": [
    "The list of choices are found in the spreadsheet\n",
    "\n",
    "https://docs.google.com/spreadsheets/d/1m64mmP_9RMPPj00QyZJP-2sP1raoXv4MSUsROA8LppQ/edit?gid=0#gid=0\n",
    "\n",
    "We'll use thihs map the transcription to expected output so that case-sensitive dialogueFlow can accept the transcription"
   ]
  },
  {
   "cell_type": "code",
   "execution_count": 87,
   "id": "a19dff0c",
   "metadata": {},
   "outputs": [],
   "source": [
    "import ipywidgets as widgets\n",
    "import os, json, torch, pickle\n",
    "import numpy as np\n",
    "import soundfile as sf\n",
    "from transformers import Wav2Vec2ForCTC, Wav2Vec2Processor\n",
    "import torchaudio\n",
    "import sounddevice as sd\n",
    "from scipy.io.wavfile import write, read\n",
    "from IPython.display import display, Audio\n",
    "from tqdm import tqdm\n",
    "from pydub.playback import play\n",
    "from pydub import AudioSegment\n",
    "import soundfile as sf\n",
    "import wave\n",
    "import librosa\n",
    "from torch.utils.data import Dataset, DataLoader\n",
    "from collections import Counter\n",
    "import json\n",
    "from transformers import Wav2Vec2Processor, Wav2Vec2FeatureExtractor, Wav2Vec2CTCTokenizer\n",
    "import matplotlib.pyplot as plt\n",
    "import Levenshtein\n",
    "from fuzzywuzzy import process\n",
    "from transformers import BertTokenizer\n",
    "import torch\n",
    "from difflib import get_close_matches\n",
    "from fuzzywuzzy import process\n",
    "import requests\n",
    "import inflect\n",
    "import re\n",
    "import torchaudio\n",
    "from torchaudio.transforms import MelSpectrogram\n",
    "from torch.utils.data import Dataset, DataLoader\n",
    "from datasets import load_dataset\n",
    "import random\n",
    "import torch.nn as nn\n",
    "import torch.optim as optim\n",
    "import tarfile\n",
    "from sklearn.model_selection import train_test_split\n",
    "import shutil\n",
    "import threading\n",
    "import ipynbname\n",
    "from collections import defaultdict\n"
   ]
  },
  {
   "cell_type": "code",
   "execution_count": 2,
   "id": "025b68bb",
   "metadata": {},
   "outputs": [],
   "source": [
    "import subprocess"
   ]
  },
  {
   "cell_type": "code",
   "execution_count": 3,
   "id": "75ebb2d7",
   "metadata": {},
   "outputs": [
    {
     "data": {
      "text/plain": [
       "0"
      ]
     },
     "execution_count": 3,
     "metadata": {},
     "output_type": "execute_result"
    }
   ],
   "source": [
    "subprocess.check_call(['pip', 'freeze', '>', 'requirements.txt'], shell=True)"
   ]
  },
  {
   "cell_type": "markdown",
   "id": "af9bfe4f",
   "metadata": {},
   "source": [
    "Uncomment below to install the required dependencies"
   ]
  },
  {
   "cell_type": "code",
   "execution_count": 4,
   "id": "d5388fce",
   "metadata": {},
   "outputs": [],
   "source": [
    "# %pip install -r requirements.txt"
   ]
  },
  {
   "cell_type": "markdown",
   "id": "2f0a8212",
   "metadata": {},
   "source": [
    "## Create module for recording audio"
   ]
  },
  {
   "cell_type": "code",
   "execution_count": 5,
   "id": "adf2755b",
   "metadata": {},
   "outputs": [
    {
     "name": "stdout",
     "output_type": "stream",
     "text": [
      "Error: name 'new_dir' is not defined\n"
     ]
    }
   ],
   "source": [
    "notebook_path = ipynbname.path()\n",
    "notebook_dir = os.path.dirname(notebook_path)\n",
    "try:\n",
    "    notebook_path = ipynbname.path()\n",
    "    notebook_dir = os.path.dirname(notebook_path)\n",
    "    \n",
    "    new_dir_audio = os.path.join(notebook_dir, \"speech_input_audio\")    \n",
    "    os.makedirs(new_dir, exist_ok=True)\n",
    "    \n",
    "    print(f\"Directory created or already exists: {new_dir}\")\n",
    "\n",
    "except Exception as e:\n",
    "    print(f\"Error: {e}\")"
   ]
  },
  {
   "cell_type": "code",
   "execution_count": 6,
   "id": "a7fcfac6",
   "metadata": {},
   "outputs": [
    {
     "data": {
      "text/plain": [
       "'D:\\\\Coding Projects\\\\OJT2\\\\SpeechRecog+SpellingCorrect\\\\speech_input_audio'"
      ]
     },
     "execution_count": 6,
     "metadata": {},
     "output_type": "execute_result"
    }
   ],
   "source": [
    "new_dir_audio"
   ]
  },
  {
   "cell_type": "code",
   "execution_count": 7,
   "id": "32f4d30d",
   "metadata": {},
   "outputs": [
    {
     "data": {
      "text/plain": [
       "'D:\\\\Coding Projects\\\\OJT2\\\\SpeechRecog+SpellingCorrect'"
      ]
     },
     "execution_count": 7,
     "metadata": {},
     "output_type": "execute_result"
    }
   ],
   "source": [
    "notebook_dir"
   ]
  },
  {
   "cell_type": "code",
   "execution_count": 8,
   "id": "b9f1d2df",
   "metadata": {},
   "outputs": [
    {
     "data": {
      "application/vnd.jupyter.widget-view+json": {
       "model_id": "d80765764686427b814616c57c113784",
       "version_major": 2,
       "version_minor": 0
      },
      "text/plain": [
       "Button(description='Start Recording', style=ButtonStyle())"
      ]
     },
     "metadata": {},
     "output_type": "display_data"
    },
    {
     "data": {
      "application/vnd.jupyter.widget-view+json": {
       "model_id": "82a49a072d074a25901a15a2077538c3",
       "version_major": 2,
       "version_minor": 0
      },
      "text/plain": [
       "Button(description='Stop Recording', style=ButtonStyle())"
      ]
     },
     "metadata": {},
     "output_type": "display_data"
    },
    {
     "data": {
      "application/vnd.jupyter.widget-view+json": {
       "model_id": "39507639b1fa48adbd89f6f452d867b9",
       "version_major": 2,
       "version_minor": 0
      },
      "text/plain": [
       "Button(description='Play Recording', style=ButtonStyle())"
      ]
     },
     "metadata": {},
     "output_type": "display_data"
    },
    {
     "data": {
      "application/vnd.jupyter.widget-view+json": {
       "model_id": "45cf26b1732a49dfa66c81210035ff6f",
       "version_major": 2,
       "version_minor": 0
      },
      "text/plain": [
       "Button(description='Save Recording', style=ButtonStyle())"
      ]
     },
     "metadata": {},
     "output_type": "display_data"
    }
   ],
   "source": [
    "recording = None\n",
    "recording_event = None\n",
    "sample_rate = 44100  # Sample rate in Hz\n",
    "\n",
    "def start_recording(button):\n",
    "    global recording_event\n",
    "    duration = 10  # Duration in seconds\n",
    "    print(\"Recording...\")\n",
    "    recording_event = sd.rec(int(duration * sample_rate), samplerate=sample_rate, channels=2, dtype='int16')\n",
    "\n",
    "def stop_recording(button):\n",
    "    global recording, recording_event\n",
    "    sd.stop()\n",
    "    recording = recording_event.copy()\n",
    "    print(\"Recording stopped.\")\n",
    "\n",
    "def play_audio(button):\n",
    "    if recording is not None:\n",
    "        display(Audio(data=recording.T, rate=sample_rate))\n",
    "    else:\n",
    "        print(\"No recording available to play.\")\n",
    "\n",
    "def save_audio(button):\n",
    "    global recording\n",
    "    output_directory = new_dir_audio\n",
    "    if not os.path.exists(output_directory):\n",
    "        os.makedirs(output_directory)\n",
    "        num_audio_files = 0\n",
    "    else:\n",
    "        num_audio_files = len([name for name in os.listdir(output_directory) if os.path.isfile(os.path.join(output_directory, name))])\n",
    "\n",
    "    num_str = f\"{num_audio_files+1:04}\"\n",
    "    output_filename = f\"res_{num_str}.wav\"\n",
    "\n",
    "    if recording is not None and recording.size > 0:\n",
    "        output_file_path = os.path.join(output_directory, output_filename)\n",
    "        print(f\"Recording shape: {recording.shape}, dtype: {recording.dtype}\")\n",
    "        save_recording(output_file_path, recording)\n",
    "        print(f\"Audio saved to {output_file_path}\")\n",
    "    else:\n",
    "        print(\"No recording available to save.\")\n",
    "\n",
    "def normalize_audio(data):\n",
    "    max_val = np.iinfo(np.int16).max\n",
    "    min_val = np.iinfo(np.int16).min\n",
    "    max_data = max(abs(data.max()), abs(data.min()))\n",
    "    if max_data > 0:\n",
    "        normalized_data = data * (max_val / max_data)\n",
    "        normalized_data = np.clip(normalized_data, min_val, max_val)\n",
    "        return normalized_data.astype(np.int16)\n",
    "    return data\n",
    "\n",
    "def save_recording(filename, data):\n",
    "    # Normalize audio data\n",
    "    data = normalize_audio(data)\n",
    "    \n",
    "    # Ensure data is in the correct format\n",
    "    if data.dtype != np.int16:\n",
    "        data = data.astype(np.int16)\n",
    "    \n",
    "    # Ensure data is 2D\n",
    "    if data.ndim == 1:\n",
    "        data = data[:, np.newaxis]\n",
    "    \n",
    "    # Write the recorded data to a WAV file\n",
    "    with wave.open(filename, 'wb') as wf:\n",
    "        wf.setnchannels(data.shape[1])\n",
    "        wf.setsampwidth(2)  # 16-bit audio\n",
    "        wf.setframerate(sample_rate)\n",
    "        wf.writeframes(data.tobytes())\n",
    "\n",
    "# Create buttons\n",
    "start_button = widgets.Button(description=\"Start Recording\")\n",
    "stop_button = widgets.Button(description=\"Stop Recording\")\n",
    "play_button = widgets.Button(description=\"Play Recording\")\n",
    "save_button = widgets.Button(description=\"Save Recording\")\n",
    "\n",
    "# Assign functions to buttons\n",
    "start_button.on_click(start_recording)\n",
    "stop_button.on_click(stop_recording)\n",
    "play_button.on_click(play_audio)\n",
    "save_button.on_click(save_audio)\n",
    "\n",
    "# Display buttons\n",
    "display(start_button)\n",
    "display(stop_button)\n",
    "display(play_button)\n",
    "display(save_button)"
   ]
  },
  {
   "cell_type": "markdown",
   "id": "1d058ccf",
   "metadata": {},
   "source": [
    "### Record your audio"
   ]
  },
  {
   "cell_type": "markdown",
   "id": "5b938fe3",
   "metadata": {},
   "source": [
    "### Test your audio"
   ]
  },
  {
   "cell_type": "code",
   "execution_count": 9,
   "id": "f0696562",
   "metadata": {},
   "outputs": [
    {
     "data": {
      "text/plain": [
       "'D:\\\\Coding Projects\\\\OJT2\\\\SpeechRecog+SpellingCorrect\\\\speech_input_audio'"
      ]
     },
     "execution_count": 9,
     "metadata": {},
     "output_type": "execute_result"
    }
   ],
   "source": [
    "new_dir_audio"
   ]
  },
  {
   "cell_type": "code",
   "execution_count": 10,
   "id": "5a2b58a0",
   "metadata": {},
   "outputs": [
    {
     "data": {
      "text/plain": [
       "['D:\\\\Coding Projects\\\\OJT2\\\\SpeechRecog+SpellingCorrect\\\\speech_input_audio\\\\res_0001.wav',\n",
       " 'D:\\\\Coding Projects\\\\OJT2\\\\SpeechRecog+SpellingCorrect\\\\speech_input_audio\\\\res_0002.wav',\n",
       " 'D:\\\\Coding Projects\\\\OJT2\\\\SpeechRecog+SpellingCorrect\\\\speech_input_audio\\\\res_0003.wav',\n",
       " 'D:\\\\Coding Projects\\\\OJT2\\\\SpeechRecog+SpellingCorrect\\\\speech_input_audio\\\\res_0004.wav',\n",
       " 'D:\\\\Coding Projects\\\\OJT2\\\\SpeechRecog+SpellingCorrect\\\\speech_input_audio\\\\res_0005.wav',\n",
       " 'D:\\\\Coding Projects\\\\OJT2\\\\SpeechRecog+SpellingCorrect\\\\speech_input_audio\\\\res_0006.wav',\n",
       " 'D:\\\\Coding Projects\\\\OJT2\\\\SpeechRecog+SpellingCorrect\\\\speech_input_audio\\\\res_0007.wav',\n",
       " 'D:\\\\Coding Projects\\\\OJT2\\\\SpeechRecog+SpellingCorrect\\\\speech_input_audio\\\\res_0008.wav',\n",
       " 'D:\\\\Coding Projects\\\\OJT2\\\\SpeechRecog+SpellingCorrect\\\\speech_input_audio\\\\res_0009.wav',\n",
       " 'D:\\\\Coding Projects\\\\OJT2\\\\SpeechRecog+SpellingCorrect\\\\speech_input_audio\\\\res_0010.wav']"
      ]
     },
     "execution_count": 10,
     "metadata": {},
     "output_type": "execute_result"
    }
   ],
   "source": [
    "audio_dir = new_dir_audio\n",
    "num_audio_files = len([name for name in os.listdir(audio_dir) if os.path.isfile(os.path.join(audio_dir, name))])\n",
    "\n",
    "audio_files = []\n",
    "for i in range(num_audio_files):\n",
    "    num_str = f\"{i+1:04}\"\n",
    "    audio_path = os.path.join(audio_dir, f'res_{num_str}.wav')\n",
    "    audio_files.append(audio_path)\n",
    "    \n",
    "audio_files"
   ]
  },
  {
   "cell_type": "code",
   "execution_count": 11,
   "id": "f128ba87",
   "metadata": {},
   "outputs": [
    {
     "name": "stderr",
     "output_type": "stream",
     "text": [
      "Some weights of the model checkpoint at facebook/wav2vec2-large-960h were not used when initializing Wav2Vec2ForCTC: ['wav2vec2.encoder.pos_conv_embed.conv.weight_g', 'wav2vec2.encoder.pos_conv_embed.conv.weight_v']\n",
      "- This IS expected if you are initializing Wav2Vec2ForCTC from the checkpoint of a model trained on another task or with another architecture (e.g. initializing a BertForSequenceClassification model from a BertForPreTraining model).\n",
      "- This IS NOT expected if you are initializing Wav2Vec2ForCTC from the checkpoint of a model that you expect to be exactly identical (initializing a BertForSequenceClassification model from a BertForSequenceClassification model).\n",
      "Some weights of Wav2Vec2ForCTC were not initialized from the model checkpoint at facebook/wav2vec2-large-960h and are newly initialized: ['wav2vec2.encoder.pos_conv_embed.conv.parametrizations.weight.original0', 'wav2vec2.encoder.pos_conv_embed.conv.parametrizations.weight.original1', 'wav2vec2.masked_spec_embed']\n",
      "You should probably TRAIN this model on a down-stream task to be able to use it for predictions and inference.\n"
     ]
    }
   ],
   "source": [
    "model = Wav2Vec2ForCTC.from_pretrained(\"facebook/wav2vec2-large-960h\")\n",
    "processor = Wav2Vec2Processor.from_pretrained(\"facebook/wav2vec2-large-960h\")"
   ]
  },
  {
   "cell_type": "code",
   "execution_count": 12,
   "id": "bff8a8ee",
   "metadata": {},
   "outputs": [],
   "source": [
    "test_transcript = []\n",
    "def show_transcription(model, processor, audio_file):\n",
    "    audio_input, sampling_rate = librosa.load(audio_file, sr=16000)\n",
    "    inputs = processor(audio_input, sampling_rate=sampling_rate, return_tensors=\"pt\", padding=True)\n",
    "    with torch.no_grad():\n",
    "        logits = model(inputs.input_values).logits\n",
    "\n",
    "    predicted_ids = torch.argmax(logits, dim=-1)\n",
    "    transcription = processor.batch_decode(predicted_ids)\n",
    "    return transcription"
   ]
  },
  {
   "cell_type": "code",
   "execution_count": 13,
   "id": "941e14b0",
   "metadata": {},
   "outputs": [],
   "source": [
    "for audio_file in audio_files:\n",
    "    out = show_transcription(model, processor, audio_file)\n",
    "    test_transcript.append(out)"
   ]
  },
  {
   "cell_type": "code",
   "execution_count": 14,
   "id": "172a8d8f",
   "metadata": {},
   "outputs": [
    {
     "name": "stdout",
     "output_type": "stream",
     "text": [
      "Directory created or already exists: D:\\Coding Projects\\OJT2\\SpeechRecog+SpellingCorrect\\speech_input_audio\n"
     ]
    }
   ],
   "source": [
    "try:\n",
    "    notebook_path = ipynbname.path()\n",
    "    notebook_dir = os.path.dirname(notebook_path)\n",
    "    \n",
    "    new_dir_text = os.path.join(notebook_dir, \"dataset_text\", \"tagalog\")    \n",
    "    os.makedirs(new_dir_audio, exist_ok=True)\n",
    "    \n",
    "    print(f\"Directory created or already exists: {new_dir_audio}\")\n",
    "\n",
    "except Exception as e:\n",
    "    print(f\"Error: {e}\")"
   ]
  },
  {
   "cell_type": "markdown",
   "id": "3e665daa",
   "metadata": {},
   "source": [
    "#### Get the text labels (tagalog)"
   ]
  },
  {
   "cell_type": "code",
   "execution_count": 15,
   "id": "93c35b62",
   "metadata": {},
   "outputs": [],
   "source": [
    "def getFileNames(audio_dir, isWav):\n",
    "    num_files = len([name for name in os.listdir(audio_dir) if os.path.isfile(os.path.join(audio_dir, name))])\n",
    "\n",
    "    files = []\n",
    "    for i in range(num_files):\n",
    "        num_str = f\"{i+1:04}\"\n",
    "\n",
    "        path = os.path.join(audio_dir, f'res_{num_str}.txt')\n",
    "\n",
    "        files.append(path)\n",
    "\n",
    "    return files\n",
    "\n",
    "transcript_dir = new_dir_text\n",
    "listAudioLabels = getFileNames(transcript_dir, False)"
   ]
  },
  {
   "cell_type": "code",
   "execution_count": 16,
   "id": "d8ff98f9",
   "metadata": {},
   "outputs": [
    {
     "data": {
      "text/plain": [
       "['D:\\\\Coding Projects\\\\OJT2\\\\SpeechRecog+SpellingCorrect\\\\dataset_text\\\\tagalog\\\\res_0001.txt',\n",
       " 'D:\\\\Coding Projects\\\\OJT2\\\\SpeechRecog+SpellingCorrect\\\\dataset_text\\\\tagalog\\\\res_0002.txt',\n",
       " 'D:\\\\Coding Projects\\\\OJT2\\\\SpeechRecog+SpellingCorrect\\\\dataset_text\\\\tagalog\\\\res_0003.txt',\n",
       " 'D:\\\\Coding Projects\\\\OJT2\\\\SpeechRecog+SpellingCorrect\\\\dataset_text\\\\tagalog\\\\res_0004.txt',\n",
       " 'D:\\\\Coding Projects\\\\OJT2\\\\SpeechRecog+SpellingCorrect\\\\dataset_text\\\\tagalog\\\\res_0005.txt',\n",
       " 'D:\\\\Coding Projects\\\\OJT2\\\\SpeechRecog+SpellingCorrect\\\\dataset_text\\\\tagalog\\\\res_0006.txt',\n",
       " 'D:\\\\Coding Projects\\\\OJT2\\\\SpeechRecog+SpellingCorrect\\\\dataset_text\\\\tagalog\\\\res_0007.txt',\n",
       " 'D:\\\\Coding Projects\\\\OJT2\\\\SpeechRecog+SpellingCorrect\\\\dataset_text\\\\tagalog\\\\res_0008.txt',\n",
       " 'D:\\\\Coding Projects\\\\OJT2\\\\SpeechRecog+SpellingCorrect\\\\dataset_text\\\\tagalog\\\\res_0009.txt',\n",
       " 'D:\\\\Coding Projects\\\\OJT2\\\\SpeechRecog+SpellingCorrect\\\\dataset_text\\\\tagalog\\\\res_0010.txt',\n",
       " 'D:\\\\Coding Projects\\\\OJT2\\\\SpeechRecog+SpellingCorrect\\\\dataset_text\\\\tagalog\\\\res_0011.txt',\n",
       " 'D:\\\\Coding Projects\\\\OJT2\\\\SpeechRecog+SpellingCorrect\\\\dataset_text\\\\tagalog\\\\res_0012.txt',\n",
       " 'D:\\\\Coding Projects\\\\OJT2\\\\SpeechRecog+SpellingCorrect\\\\dataset_text\\\\tagalog\\\\res_0013.txt',\n",
       " 'D:\\\\Coding Projects\\\\OJT2\\\\SpeechRecog+SpellingCorrect\\\\dataset_text\\\\tagalog\\\\res_0014.txt',\n",
       " 'D:\\\\Coding Projects\\\\OJT2\\\\SpeechRecog+SpellingCorrect\\\\dataset_text\\\\tagalog\\\\res_0015.txt',\n",
       " 'D:\\\\Coding Projects\\\\OJT2\\\\SpeechRecog+SpellingCorrect\\\\dataset_text\\\\tagalog\\\\res_0016.txt',\n",
       " 'D:\\\\Coding Projects\\\\OJT2\\\\SpeechRecog+SpellingCorrect\\\\dataset_text\\\\tagalog\\\\res_0017.txt',\n",
       " 'D:\\\\Coding Projects\\\\OJT2\\\\SpeechRecog+SpellingCorrect\\\\dataset_text\\\\tagalog\\\\res_0018.txt',\n",
       " 'D:\\\\Coding Projects\\\\OJT2\\\\SpeechRecog+SpellingCorrect\\\\dataset_text\\\\tagalog\\\\res_0019.txt',\n",
       " 'D:\\\\Coding Projects\\\\OJT2\\\\SpeechRecog+SpellingCorrect\\\\dataset_text\\\\tagalog\\\\res_0020.txt',\n",
       " 'D:\\\\Coding Projects\\\\OJT2\\\\SpeechRecog+SpellingCorrect\\\\dataset_text\\\\tagalog\\\\res_0021.txt',\n",
       " 'D:\\\\Coding Projects\\\\OJT2\\\\SpeechRecog+SpellingCorrect\\\\dataset_text\\\\tagalog\\\\res_0022.txt',\n",
       " 'D:\\\\Coding Projects\\\\OJT2\\\\SpeechRecog+SpellingCorrect\\\\dataset_text\\\\tagalog\\\\res_0023.txt',\n",
       " 'D:\\\\Coding Projects\\\\OJT2\\\\SpeechRecog+SpellingCorrect\\\\dataset_text\\\\tagalog\\\\res_0024.txt',\n",
       " 'D:\\\\Coding Projects\\\\OJT2\\\\SpeechRecog+SpellingCorrect\\\\dataset_text\\\\tagalog\\\\res_0025.txt',\n",
       " 'D:\\\\Coding Projects\\\\OJT2\\\\SpeechRecog+SpellingCorrect\\\\dataset_text\\\\tagalog\\\\res_0026.txt',\n",
       " 'D:\\\\Coding Projects\\\\OJT2\\\\SpeechRecog+SpellingCorrect\\\\dataset_text\\\\tagalog\\\\res_0027.txt',\n",
       " 'D:\\\\Coding Projects\\\\OJT2\\\\SpeechRecog+SpellingCorrect\\\\dataset_text\\\\tagalog\\\\res_0028.txt',\n",
       " 'D:\\\\Coding Projects\\\\OJT2\\\\SpeechRecog+SpellingCorrect\\\\dataset_text\\\\tagalog\\\\res_0029.txt',\n",
       " 'D:\\\\Coding Projects\\\\OJT2\\\\SpeechRecog+SpellingCorrect\\\\dataset_text\\\\tagalog\\\\res_0030.txt',\n",
       " 'D:\\\\Coding Projects\\\\OJT2\\\\SpeechRecog+SpellingCorrect\\\\dataset_text\\\\tagalog\\\\res_0031.txt',\n",
       " 'D:\\\\Coding Projects\\\\OJT2\\\\SpeechRecog+SpellingCorrect\\\\dataset_text\\\\tagalog\\\\res_0032.txt',\n",
       " 'D:\\\\Coding Projects\\\\OJT2\\\\SpeechRecog+SpellingCorrect\\\\dataset_text\\\\tagalog\\\\res_0033.txt',\n",
       " 'D:\\\\Coding Projects\\\\OJT2\\\\SpeechRecog+SpellingCorrect\\\\dataset_text\\\\tagalog\\\\res_0034.txt',\n",
       " 'D:\\\\Coding Projects\\\\OJT2\\\\SpeechRecog+SpellingCorrect\\\\dataset_text\\\\tagalog\\\\res_0035.txt',\n",
       " 'D:\\\\Coding Projects\\\\OJT2\\\\SpeechRecog+SpellingCorrect\\\\dataset_text\\\\tagalog\\\\res_0036.txt',\n",
       " 'D:\\\\Coding Projects\\\\OJT2\\\\SpeechRecog+SpellingCorrect\\\\dataset_text\\\\tagalog\\\\res_0037.txt',\n",
       " 'D:\\\\Coding Projects\\\\OJT2\\\\SpeechRecog+SpellingCorrect\\\\dataset_text\\\\tagalog\\\\res_0038.txt',\n",
       " 'D:\\\\Coding Projects\\\\OJT2\\\\SpeechRecog+SpellingCorrect\\\\dataset_text\\\\tagalog\\\\res_0039.txt',\n",
       " 'D:\\\\Coding Projects\\\\OJT2\\\\SpeechRecog+SpellingCorrect\\\\dataset_text\\\\tagalog\\\\res_0040.txt',\n",
       " 'D:\\\\Coding Projects\\\\OJT2\\\\SpeechRecog+SpellingCorrect\\\\dataset_text\\\\tagalog\\\\res_0041.txt',\n",
       " 'D:\\\\Coding Projects\\\\OJT2\\\\SpeechRecog+SpellingCorrect\\\\dataset_text\\\\tagalog\\\\res_0042.txt',\n",
       " 'D:\\\\Coding Projects\\\\OJT2\\\\SpeechRecog+SpellingCorrect\\\\dataset_text\\\\tagalog\\\\res_0043.txt',\n",
       " 'D:\\\\Coding Projects\\\\OJT2\\\\SpeechRecog+SpellingCorrect\\\\dataset_text\\\\tagalog\\\\res_0044.txt',\n",
       " 'D:\\\\Coding Projects\\\\OJT2\\\\SpeechRecog+SpellingCorrect\\\\dataset_text\\\\tagalog\\\\res_0045.txt',\n",
       " 'D:\\\\Coding Projects\\\\OJT2\\\\SpeechRecog+SpellingCorrect\\\\dataset_text\\\\tagalog\\\\res_0046.txt',\n",
       " 'D:\\\\Coding Projects\\\\OJT2\\\\SpeechRecog+SpellingCorrect\\\\dataset_text\\\\tagalog\\\\res_0047.txt',\n",
       " 'D:\\\\Coding Projects\\\\OJT2\\\\SpeechRecog+SpellingCorrect\\\\dataset_text\\\\tagalog\\\\res_0048.txt',\n",
       " 'D:\\\\Coding Projects\\\\OJT2\\\\SpeechRecog+SpellingCorrect\\\\dataset_text\\\\tagalog\\\\res_0049.txt',\n",
       " 'D:\\\\Coding Projects\\\\OJT2\\\\SpeechRecog+SpellingCorrect\\\\dataset_text\\\\tagalog\\\\res_0050.txt',\n",
       " 'D:\\\\Coding Projects\\\\OJT2\\\\SpeechRecog+SpellingCorrect\\\\dataset_text\\\\tagalog\\\\res_0051.txt',\n",
       " 'D:\\\\Coding Projects\\\\OJT2\\\\SpeechRecog+SpellingCorrect\\\\dataset_text\\\\tagalog\\\\res_0052.txt',\n",
       " 'D:\\\\Coding Projects\\\\OJT2\\\\SpeechRecog+SpellingCorrect\\\\dataset_text\\\\tagalog\\\\res_0053.txt',\n",
       " 'D:\\\\Coding Projects\\\\OJT2\\\\SpeechRecog+SpellingCorrect\\\\dataset_text\\\\tagalog\\\\res_0054.txt',\n",
       " 'D:\\\\Coding Projects\\\\OJT2\\\\SpeechRecog+SpellingCorrect\\\\dataset_text\\\\tagalog\\\\res_0055.txt',\n",
       " 'D:\\\\Coding Projects\\\\OJT2\\\\SpeechRecog+SpellingCorrect\\\\dataset_text\\\\tagalog\\\\res_0056.txt',\n",
       " 'D:\\\\Coding Projects\\\\OJT2\\\\SpeechRecog+SpellingCorrect\\\\dataset_text\\\\tagalog\\\\res_0057.txt',\n",
       " 'D:\\\\Coding Projects\\\\OJT2\\\\SpeechRecog+SpellingCorrect\\\\dataset_text\\\\tagalog\\\\res_0058.txt',\n",
       " 'D:\\\\Coding Projects\\\\OJT2\\\\SpeechRecog+SpellingCorrect\\\\dataset_text\\\\tagalog\\\\res_0059.txt',\n",
       " 'D:\\\\Coding Projects\\\\OJT2\\\\SpeechRecog+SpellingCorrect\\\\dataset_text\\\\tagalog\\\\res_0060.txt',\n",
       " 'D:\\\\Coding Projects\\\\OJT2\\\\SpeechRecog+SpellingCorrect\\\\dataset_text\\\\tagalog\\\\res_0061.txt',\n",
       " 'D:\\\\Coding Projects\\\\OJT2\\\\SpeechRecog+SpellingCorrect\\\\dataset_text\\\\tagalog\\\\res_0062.txt',\n",
       " 'D:\\\\Coding Projects\\\\OJT2\\\\SpeechRecog+SpellingCorrect\\\\dataset_text\\\\tagalog\\\\res_0063.txt',\n",
       " 'D:\\\\Coding Projects\\\\OJT2\\\\SpeechRecog+SpellingCorrect\\\\dataset_text\\\\tagalog\\\\res_0064.txt',\n",
       " 'D:\\\\Coding Projects\\\\OJT2\\\\SpeechRecog+SpellingCorrect\\\\dataset_text\\\\tagalog\\\\res_0065.txt',\n",
       " 'D:\\\\Coding Projects\\\\OJT2\\\\SpeechRecog+SpellingCorrect\\\\dataset_text\\\\tagalog\\\\res_0066.txt',\n",
       " 'D:\\\\Coding Projects\\\\OJT2\\\\SpeechRecog+SpellingCorrect\\\\dataset_text\\\\tagalog\\\\res_0067.txt',\n",
       " 'D:\\\\Coding Projects\\\\OJT2\\\\SpeechRecog+SpellingCorrect\\\\dataset_text\\\\tagalog\\\\res_0068.txt',\n",
       " 'D:\\\\Coding Projects\\\\OJT2\\\\SpeechRecog+SpellingCorrect\\\\dataset_text\\\\tagalog\\\\res_0069.txt',\n",
       " 'D:\\\\Coding Projects\\\\OJT2\\\\SpeechRecog+SpellingCorrect\\\\dataset_text\\\\tagalog\\\\res_0070.txt',\n",
       " 'D:\\\\Coding Projects\\\\OJT2\\\\SpeechRecog+SpellingCorrect\\\\dataset_text\\\\tagalog\\\\res_0071.txt',\n",
       " 'D:\\\\Coding Projects\\\\OJT2\\\\SpeechRecog+SpellingCorrect\\\\dataset_text\\\\tagalog\\\\res_0072.txt',\n",
       " 'D:\\\\Coding Projects\\\\OJT2\\\\SpeechRecog+SpellingCorrect\\\\dataset_text\\\\tagalog\\\\res_0073.txt',\n",
       " 'D:\\\\Coding Projects\\\\OJT2\\\\SpeechRecog+SpellingCorrect\\\\dataset_text\\\\tagalog\\\\res_0074.txt',\n",
       " 'D:\\\\Coding Projects\\\\OJT2\\\\SpeechRecog+SpellingCorrect\\\\dataset_text\\\\tagalog\\\\res_0075.txt',\n",
       " 'D:\\\\Coding Projects\\\\OJT2\\\\SpeechRecog+SpellingCorrect\\\\dataset_text\\\\tagalog\\\\res_0076.txt',\n",
       " 'D:\\\\Coding Projects\\\\OJT2\\\\SpeechRecog+SpellingCorrect\\\\dataset_text\\\\tagalog\\\\res_0077.txt',\n",
       " 'D:\\\\Coding Projects\\\\OJT2\\\\SpeechRecog+SpellingCorrect\\\\dataset_text\\\\tagalog\\\\res_0078.txt',\n",
       " 'D:\\\\Coding Projects\\\\OJT2\\\\SpeechRecog+SpellingCorrect\\\\dataset_text\\\\tagalog\\\\res_0079.txt',\n",
       " 'D:\\\\Coding Projects\\\\OJT2\\\\SpeechRecog+SpellingCorrect\\\\dataset_text\\\\tagalog\\\\res_0080.txt',\n",
       " 'D:\\\\Coding Projects\\\\OJT2\\\\SpeechRecog+SpellingCorrect\\\\dataset_text\\\\tagalog\\\\res_0081.txt',\n",
       " 'D:\\\\Coding Projects\\\\OJT2\\\\SpeechRecog+SpellingCorrect\\\\dataset_text\\\\tagalog\\\\res_0082.txt',\n",
       " 'D:\\\\Coding Projects\\\\OJT2\\\\SpeechRecog+SpellingCorrect\\\\dataset_text\\\\tagalog\\\\res_0083.txt',\n",
       " 'D:\\\\Coding Projects\\\\OJT2\\\\SpeechRecog+SpellingCorrect\\\\dataset_text\\\\tagalog\\\\res_0084.txt',\n",
       " 'D:\\\\Coding Projects\\\\OJT2\\\\SpeechRecog+SpellingCorrect\\\\dataset_text\\\\tagalog\\\\res_0085.txt',\n",
       " 'D:\\\\Coding Projects\\\\OJT2\\\\SpeechRecog+SpellingCorrect\\\\dataset_text\\\\tagalog\\\\res_0086.txt',\n",
       " 'D:\\\\Coding Projects\\\\OJT2\\\\SpeechRecog+SpellingCorrect\\\\dataset_text\\\\tagalog\\\\res_0087.txt',\n",
       " 'D:\\\\Coding Projects\\\\OJT2\\\\SpeechRecog+SpellingCorrect\\\\dataset_text\\\\tagalog\\\\res_0088.txt',\n",
       " 'D:\\\\Coding Projects\\\\OJT2\\\\SpeechRecog+SpellingCorrect\\\\dataset_text\\\\tagalog\\\\res_0089.txt',\n",
       " 'D:\\\\Coding Projects\\\\OJT2\\\\SpeechRecog+SpellingCorrect\\\\dataset_text\\\\tagalog\\\\res_0090.txt',\n",
       " 'D:\\\\Coding Projects\\\\OJT2\\\\SpeechRecog+SpellingCorrect\\\\dataset_text\\\\tagalog\\\\res_0091.txt',\n",
       " 'D:\\\\Coding Projects\\\\OJT2\\\\SpeechRecog+SpellingCorrect\\\\dataset_text\\\\tagalog\\\\res_0092.txt',\n",
       " 'D:\\\\Coding Projects\\\\OJT2\\\\SpeechRecog+SpellingCorrect\\\\dataset_text\\\\tagalog\\\\res_0093.txt',\n",
       " 'D:\\\\Coding Projects\\\\OJT2\\\\SpeechRecog+SpellingCorrect\\\\dataset_text\\\\tagalog\\\\res_0094.txt',\n",
       " 'D:\\\\Coding Projects\\\\OJT2\\\\SpeechRecog+SpellingCorrect\\\\dataset_text\\\\tagalog\\\\res_0095.txt',\n",
       " 'D:\\\\Coding Projects\\\\OJT2\\\\SpeechRecog+SpellingCorrect\\\\dataset_text\\\\tagalog\\\\res_0096.txt',\n",
       " 'D:\\\\Coding Projects\\\\OJT2\\\\SpeechRecog+SpellingCorrect\\\\dataset_text\\\\tagalog\\\\res_0097.txt',\n",
       " 'D:\\\\Coding Projects\\\\OJT2\\\\SpeechRecog+SpellingCorrect\\\\dataset_text\\\\tagalog\\\\res_0098.txt',\n",
       " 'D:\\\\Coding Projects\\\\OJT2\\\\SpeechRecog+SpellingCorrect\\\\dataset_text\\\\tagalog\\\\res_0099.txt',\n",
       " 'D:\\\\Coding Projects\\\\OJT2\\\\SpeechRecog+SpellingCorrect\\\\dataset_text\\\\tagalog\\\\res_0100.txt',\n",
       " 'D:\\\\Coding Projects\\\\OJT2\\\\SpeechRecog+SpellingCorrect\\\\dataset_text\\\\tagalog\\\\res_0101.txt',\n",
       " 'D:\\\\Coding Projects\\\\OJT2\\\\SpeechRecog+SpellingCorrect\\\\dataset_text\\\\tagalog\\\\res_0102.txt',\n",
       " 'D:\\\\Coding Projects\\\\OJT2\\\\SpeechRecog+SpellingCorrect\\\\dataset_text\\\\tagalog\\\\res_0103.txt',\n",
       " 'D:\\\\Coding Projects\\\\OJT2\\\\SpeechRecog+SpellingCorrect\\\\dataset_text\\\\tagalog\\\\res_0104.txt',\n",
       " 'D:\\\\Coding Projects\\\\OJT2\\\\SpeechRecog+SpellingCorrect\\\\dataset_text\\\\tagalog\\\\res_0105.txt',\n",
       " 'D:\\\\Coding Projects\\\\OJT2\\\\SpeechRecog+SpellingCorrect\\\\dataset_text\\\\tagalog\\\\res_0106.txt',\n",
       " 'D:\\\\Coding Projects\\\\OJT2\\\\SpeechRecog+SpellingCorrect\\\\dataset_text\\\\tagalog\\\\res_0107.txt',\n",
       " 'D:\\\\Coding Projects\\\\OJT2\\\\SpeechRecog+SpellingCorrect\\\\dataset_text\\\\tagalog\\\\res_0108.txt',\n",
       " 'D:\\\\Coding Projects\\\\OJT2\\\\SpeechRecog+SpellingCorrect\\\\dataset_text\\\\tagalog\\\\res_0109.txt',\n",
       " 'D:\\\\Coding Projects\\\\OJT2\\\\SpeechRecog+SpellingCorrect\\\\dataset_text\\\\tagalog\\\\res_0110.txt',\n",
       " 'D:\\\\Coding Projects\\\\OJT2\\\\SpeechRecog+SpellingCorrect\\\\dataset_text\\\\tagalog\\\\res_0111.txt',\n",
       " 'D:\\\\Coding Projects\\\\OJT2\\\\SpeechRecog+SpellingCorrect\\\\dataset_text\\\\tagalog\\\\res_0112.txt',\n",
       " 'D:\\\\Coding Projects\\\\OJT2\\\\SpeechRecog+SpellingCorrect\\\\dataset_text\\\\tagalog\\\\res_0113.txt',\n",
       " 'D:\\\\Coding Projects\\\\OJT2\\\\SpeechRecog+SpellingCorrect\\\\dataset_text\\\\tagalog\\\\res_0114.txt',\n",
       " 'D:\\\\Coding Projects\\\\OJT2\\\\SpeechRecog+SpellingCorrect\\\\dataset_text\\\\tagalog\\\\res_0115.txt',\n",
       " 'D:\\\\Coding Projects\\\\OJT2\\\\SpeechRecog+SpellingCorrect\\\\dataset_text\\\\tagalog\\\\res_0116.txt',\n",
       " 'D:\\\\Coding Projects\\\\OJT2\\\\SpeechRecog+SpellingCorrect\\\\dataset_text\\\\tagalog\\\\res_0117.txt',\n",
       " 'D:\\\\Coding Projects\\\\OJT2\\\\SpeechRecog+SpellingCorrect\\\\dataset_text\\\\tagalog\\\\res_0118.txt',\n",
       " 'D:\\\\Coding Projects\\\\OJT2\\\\SpeechRecog+SpellingCorrect\\\\dataset_text\\\\tagalog\\\\res_0119.txt',\n",
       " 'D:\\\\Coding Projects\\\\OJT2\\\\SpeechRecog+SpellingCorrect\\\\dataset_text\\\\tagalog\\\\res_0120.txt',\n",
       " 'D:\\\\Coding Projects\\\\OJT2\\\\SpeechRecog+SpellingCorrect\\\\dataset_text\\\\tagalog\\\\res_0121.txt',\n",
       " 'D:\\\\Coding Projects\\\\OJT2\\\\SpeechRecog+SpellingCorrect\\\\dataset_text\\\\tagalog\\\\res_0122.txt',\n",
       " 'D:\\\\Coding Projects\\\\OJT2\\\\SpeechRecog+SpellingCorrect\\\\dataset_text\\\\tagalog\\\\res_0123.txt',\n",
       " 'D:\\\\Coding Projects\\\\OJT2\\\\SpeechRecog+SpellingCorrect\\\\dataset_text\\\\tagalog\\\\res_0124.txt',\n",
       " 'D:\\\\Coding Projects\\\\OJT2\\\\SpeechRecog+SpellingCorrect\\\\dataset_text\\\\tagalog\\\\res_0125.txt',\n",
       " 'D:\\\\Coding Projects\\\\OJT2\\\\SpeechRecog+SpellingCorrect\\\\dataset_text\\\\tagalog\\\\res_0126.txt',\n",
       " 'D:\\\\Coding Projects\\\\OJT2\\\\SpeechRecog+SpellingCorrect\\\\dataset_text\\\\tagalog\\\\res_0127.txt',\n",
       " 'D:\\\\Coding Projects\\\\OJT2\\\\SpeechRecog+SpellingCorrect\\\\dataset_text\\\\tagalog\\\\res_0128.txt',\n",
       " 'D:\\\\Coding Projects\\\\OJT2\\\\SpeechRecog+SpellingCorrect\\\\dataset_text\\\\tagalog\\\\res_0129.txt',\n",
       " 'D:\\\\Coding Projects\\\\OJT2\\\\SpeechRecog+SpellingCorrect\\\\dataset_text\\\\tagalog\\\\res_0130.txt',\n",
       " 'D:\\\\Coding Projects\\\\OJT2\\\\SpeechRecog+SpellingCorrect\\\\dataset_text\\\\tagalog\\\\res_0131.txt',\n",
       " 'D:\\\\Coding Projects\\\\OJT2\\\\SpeechRecog+SpellingCorrect\\\\dataset_text\\\\tagalog\\\\res_0132.txt',\n",
       " 'D:\\\\Coding Projects\\\\OJT2\\\\SpeechRecog+SpellingCorrect\\\\dataset_text\\\\tagalog\\\\res_0133.txt',\n",
       " 'D:\\\\Coding Projects\\\\OJT2\\\\SpeechRecog+SpellingCorrect\\\\dataset_text\\\\tagalog\\\\res_0134.txt',\n",
       " 'D:\\\\Coding Projects\\\\OJT2\\\\SpeechRecog+SpellingCorrect\\\\dataset_text\\\\tagalog\\\\res_0135.txt',\n",
       " 'D:\\\\Coding Projects\\\\OJT2\\\\SpeechRecog+SpellingCorrect\\\\dataset_text\\\\tagalog\\\\res_0136.txt',\n",
       " 'D:\\\\Coding Projects\\\\OJT2\\\\SpeechRecog+SpellingCorrect\\\\dataset_text\\\\tagalog\\\\res_0137.txt',\n",
       " 'D:\\\\Coding Projects\\\\OJT2\\\\SpeechRecog+SpellingCorrect\\\\dataset_text\\\\tagalog\\\\res_0138.txt',\n",
       " 'D:\\\\Coding Projects\\\\OJT2\\\\SpeechRecog+SpellingCorrect\\\\dataset_text\\\\tagalog\\\\res_0139.txt',\n",
       " 'D:\\\\Coding Projects\\\\OJT2\\\\SpeechRecog+SpellingCorrect\\\\dataset_text\\\\tagalog\\\\res_0140.txt',\n",
       " 'D:\\\\Coding Projects\\\\OJT2\\\\SpeechRecog+SpellingCorrect\\\\dataset_text\\\\tagalog\\\\res_0141.txt',\n",
       " 'D:\\\\Coding Projects\\\\OJT2\\\\SpeechRecog+SpellingCorrect\\\\dataset_text\\\\tagalog\\\\res_0142.txt',\n",
       " 'D:\\\\Coding Projects\\\\OJT2\\\\SpeechRecog+SpellingCorrect\\\\dataset_text\\\\tagalog\\\\res_0143.txt',\n",
       " 'D:\\\\Coding Projects\\\\OJT2\\\\SpeechRecog+SpellingCorrect\\\\dataset_text\\\\tagalog\\\\res_0144.txt',\n",
       " 'D:\\\\Coding Projects\\\\OJT2\\\\SpeechRecog+SpellingCorrect\\\\dataset_text\\\\tagalog\\\\res_0145.txt',\n",
       " 'D:\\\\Coding Projects\\\\OJT2\\\\SpeechRecog+SpellingCorrect\\\\dataset_text\\\\tagalog\\\\res_0146.txt',\n",
       " 'D:\\\\Coding Projects\\\\OJT2\\\\SpeechRecog+SpellingCorrect\\\\dataset_text\\\\tagalog\\\\res_0147.txt',\n",
       " 'D:\\\\Coding Projects\\\\OJT2\\\\SpeechRecog+SpellingCorrect\\\\dataset_text\\\\tagalog\\\\res_0148.txt',\n",
       " 'D:\\\\Coding Projects\\\\OJT2\\\\SpeechRecog+SpellingCorrect\\\\dataset_text\\\\tagalog\\\\res_0149.txt',\n",
       " 'D:\\\\Coding Projects\\\\OJT2\\\\SpeechRecog+SpellingCorrect\\\\dataset_text\\\\tagalog\\\\res_0150.txt',\n",
       " 'D:\\\\Coding Projects\\\\OJT2\\\\SpeechRecog+SpellingCorrect\\\\dataset_text\\\\tagalog\\\\res_0151.txt',\n",
       " 'D:\\\\Coding Projects\\\\OJT2\\\\SpeechRecog+SpellingCorrect\\\\dataset_text\\\\tagalog\\\\res_0152.txt',\n",
       " 'D:\\\\Coding Projects\\\\OJT2\\\\SpeechRecog+SpellingCorrect\\\\dataset_text\\\\tagalog\\\\res_0153.txt',\n",
       " 'D:\\\\Coding Projects\\\\OJT2\\\\SpeechRecog+SpellingCorrect\\\\dataset_text\\\\tagalog\\\\res_0154.txt',\n",
       " 'D:\\\\Coding Projects\\\\OJT2\\\\SpeechRecog+SpellingCorrect\\\\dataset_text\\\\tagalog\\\\res_0155.txt',\n",
       " 'D:\\\\Coding Projects\\\\OJT2\\\\SpeechRecog+SpellingCorrect\\\\dataset_text\\\\tagalog\\\\res_0156.txt',\n",
       " 'D:\\\\Coding Projects\\\\OJT2\\\\SpeechRecog+SpellingCorrect\\\\dataset_text\\\\tagalog\\\\res_0157.txt',\n",
       " 'D:\\\\Coding Projects\\\\OJT2\\\\SpeechRecog+SpellingCorrect\\\\dataset_text\\\\tagalog\\\\res_0158.txt',\n",
       " 'D:\\\\Coding Projects\\\\OJT2\\\\SpeechRecog+SpellingCorrect\\\\dataset_text\\\\tagalog\\\\res_0159.txt',\n",
       " 'D:\\\\Coding Projects\\\\OJT2\\\\SpeechRecog+SpellingCorrect\\\\dataset_text\\\\tagalog\\\\res_0160.txt',\n",
       " 'D:\\\\Coding Projects\\\\OJT2\\\\SpeechRecog+SpellingCorrect\\\\dataset_text\\\\tagalog\\\\res_0161.txt',\n",
       " 'D:\\\\Coding Projects\\\\OJT2\\\\SpeechRecog+SpellingCorrect\\\\dataset_text\\\\tagalog\\\\res_0162.txt',\n",
       " 'D:\\\\Coding Projects\\\\OJT2\\\\SpeechRecog+SpellingCorrect\\\\dataset_text\\\\tagalog\\\\res_0163.txt',\n",
       " 'D:\\\\Coding Projects\\\\OJT2\\\\SpeechRecog+SpellingCorrect\\\\dataset_text\\\\tagalog\\\\res_0164.txt',\n",
       " 'D:\\\\Coding Projects\\\\OJT2\\\\SpeechRecog+SpellingCorrect\\\\dataset_text\\\\tagalog\\\\res_0165.txt',\n",
       " 'D:\\\\Coding Projects\\\\OJT2\\\\SpeechRecog+SpellingCorrect\\\\dataset_text\\\\tagalog\\\\res_0166.txt',\n",
       " 'D:\\\\Coding Projects\\\\OJT2\\\\SpeechRecog+SpellingCorrect\\\\dataset_text\\\\tagalog\\\\res_0167.txt',\n",
       " 'D:\\\\Coding Projects\\\\OJT2\\\\SpeechRecog+SpellingCorrect\\\\dataset_text\\\\tagalog\\\\res_0168.txt',\n",
       " 'D:\\\\Coding Projects\\\\OJT2\\\\SpeechRecog+SpellingCorrect\\\\dataset_text\\\\tagalog\\\\res_0169.txt',\n",
       " 'D:\\\\Coding Projects\\\\OJT2\\\\SpeechRecog+SpellingCorrect\\\\dataset_text\\\\tagalog\\\\res_0170.txt',\n",
       " 'D:\\\\Coding Projects\\\\OJT2\\\\SpeechRecog+SpellingCorrect\\\\dataset_text\\\\tagalog\\\\res_0171.txt',\n",
       " 'D:\\\\Coding Projects\\\\OJT2\\\\SpeechRecog+SpellingCorrect\\\\dataset_text\\\\tagalog\\\\res_0172.txt',\n",
       " 'D:\\\\Coding Projects\\\\OJT2\\\\SpeechRecog+SpellingCorrect\\\\dataset_text\\\\tagalog\\\\res_0173.txt',\n",
       " 'D:\\\\Coding Projects\\\\OJT2\\\\SpeechRecog+SpellingCorrect\\\\dataset_text\\\\tagalog\\\\res_0174.txt',\n",
       " 'D:\\\\Coding Projects\\\\OJT2\\\\SpeechRecog+SpellingCorrect\\\\dataset_text\\\\tagalog\\\\res_0175.txt',\n",
       " 'D:\\\\Coding Projects\\\\OJT2\\\\SpeechRecog+SpellingCorrect\\\\dataset_text\\\\tagalog\\\\res_0176.txt',\n",
       " 'D:\\\\Coding Projects\\\\OJT2\\\\SpeechRecog+SpellingCorrect\\\\dataset_text\\\\tagalog\\\\res_0177.txt',\n",
       " 'D:\\\\Coding Projects\\\\OJT2\\\\SpeechRecog+SpellingCorrect\\\\dataset_text\\\\tagalog\\\\res_0178.txt',\n",
       " 'D:\\\\Coding Projects\\\\OJT2\\\\SpeechRecog+SpellingCorrect\\\\dataset_text\\\\tagalog\\\\res_0179.txt',\n",
       " 'D:\\\\Coding Projects\\\\OJT2\\\\SpeechRecog+SpellingCorrect\\\\dataset_text\\\\tagalog\\\\res_0180.txt',\n",
       " 'D:\\\\Coding Projects\\\\OJT2\\\\SpeechRecog+SpellingCorrect\\\\dataset_text\\\\tagalog\\\\res_0181.txt',\n",
       " 'D:\\\\Coding Projects\\\\OJT2\\\\SpeechRecog+SpellingCorrect\\\\dataset_text\\\\tagalog\\\\res_0182.txt',\n",
       " 'D:\\\\Coding Projects\\\\OJT2\\\\SpeechRecog+SpellingCorrect\\\\dataset_text\\\\tagalog\\\\res_0183.txt',\n",
       " 'D:\\\\Coding Projects\\\\OJT2\\\\SpeechRecog+SpellingCorrect\\\\dataset_text\\\\tagalog\\\\res_0184.txt',\n",
       " 'D:\\\\Coding Projects\\\\OJT2\\\\SpeechRecog+SpellingCorrect\\\\dataset_text\\\\tagalog\\\\res_0185.txt',\n",
       " 'D:\\\\Coding Projects\\\\OJT2\\\\SpeechRecog+SpellingCorrect\\\\dataset_text\\\\tagalog\\\\res_0186.txt',\n",
       " 'D:\\\\Coding Projects\\\\OJT2\\\\SpeechRecog+SpellingCorrect\\\\dataset_text\\\\tagalog\\\\res_0187.txt',\n",
       " 'D:\\\\Coding Projects\\\\OJT2\\\\SpeechRecog+SpellingCorrect\\\\dataset_text\\\\tagalog\\\\res_0188.txt',\n",
       " 'D:\\\\Coding Projects\\\\OJT2\\\\SpeechRecog+SpellingCorrect\\\\dataset_text\\\\tagalog\\\\res_0189.txt',\n",
       " 'D:\\\\Coding Projects\\\\OJT2\\\\SpeechRecog+SpellingCorrect\\\\dataset_text\\\\tagalog\\\\res_0190.txt',\n",
       " 'D:\\\\Coding Projects\\\\OJT2\\\\SpeechRecog+SpellingCorrect\\\\dataset_text\\\\tagalog\\\\res_0191.txt',\n",
       " 'D:\\\\Coding Projects\\\\OJT2\\\\SpeechRecog+SpellingCorrect\\\\dataset_text\\\\tagalog\\\\res_0192.txt',\n",
       " 'D:\\\\Coding Projects\\\\OJT2\\\\SpeechRecog+SpellingCorrect\\\\dataset_text\\\\tagalog\\\\res_0193.txt',\n",
       " 'D:\\\\Coding Projects\\\\OJT2\\\\SpeechRecog+SpellingCorrect\\\\dataset_text\\\\tagalog\\\\res_0194.txt',\n",
       " 'D:\\\\Coding Projects\\\\OJT2\\\\SpeechRecog+SpellingCorrect\\\\dataset_text\\\\tagalog\\\\res_0195.txt',\n",
       " 'D:\\\\Coding Projects\\\\OJT2\\\\SpeechRecog+SpellingCorrect\\\\dataset_text\\\\tagalog\\\\res_0196.txt',\n",
       " 'D:\\\\Coding Projects\\\\OJT2\\\\SpeechRecog+SpellingCorrect\\\\dataset_text\\\\tagalog\\\\res_0197.txt',\n",
       " 'D:\\\\Coding Projects\\\\OJT2\\\\SpeechRecog+SpellingCorrect\\\\dataset_text\\\\tagalog\\\\res_0198.txt',\n",
       " 'D:\\\\Coding Projects\\\\OJT2\\\\SpeechRecog+SpellingCorrect\\\\dataset_text\\\\tagalog\\\\res_0199.txt',\n",
       " 'D:\\\\Coding Projects\\\\OJT2\\\\SpeechRecog+SpellingCorrect\\\\dataset_text\\\\tagalog\\\\res_0200.txt',\n",
       " 'D:\\\\Coding Projects\\\\OJT2\\\\SpeechRecog+SpellingCorrect\\\\dataset_text\\\\tagalog\\\\res_0201.txt',\n",
       " 'D:\\\\Coding Projects\\\\OJT2\\\\SpeechRecog+SpellingCorrect\\\\dataset_text\\\\tagalog\\\\res_0202.txt',\n",
       " 'D:\\\\Coding Projects\\\\OJT2\\\\SpeechRecog+SpellingCorrect\\\\dataset_text\\\\tagalog\\\\res_0203.txt',\n",
       " 'D:\\\\Coding Projects\\\\OJT2\\\\SpeechRecog+SpellingCorrect\\\\dataset_text\\\\tagalog\\\\res_0204.txt',\n",
       " 'D:\\\\Coding Projects\\\\OJT2\\\\SpeechRecog+SpellingCorrect\\\\dataset_text\\\\tagalog\\\\res_0205.txt',\n",
       " 'D:\\\\Coding Projects\\\\OJT2\\\\SpeechRecog+SpellingCorrect\\\\dataset_text\\\\tagalog\\\\res_0206.txt',\n",
       " 'D:\\\\Coding Projects\\\\OJT2\\\\SpeechRecog+SpellingCorrect\\\\dataset_text\\\\tagalog\\\\res_0207.txt',\n",
       " 'D:\\\\Coding Projects\\\\OJT2\\\\SpeechRecog+SpellingCorrect\\\\dataset_text\\\\tagalog\\\\res_0208.txt',\n",
       " 'D:\\\\Coding Projects\\\\OJT2\\\\SpeechRecog+SpellingCorrect\\\\dataset_text\\\\tagalog\\\\res_0209.txt',\n",
       " 'D:\\\\Coding Projects\\\\OJT2\\\\SpeechRecog+SpellingCorrect\\\\dataset_text\\\\tagalog\\\\res_0210.txt',\n",
       " 'D:\\\\Coding Projects\\\\OJT2\\\\SpeechRecog+SpellingCorrect\\\\dataset_text\\\\tagalog\\\\res_0211.txt',\n",
       " 'D:\\\\Coding Projects\\\\OJT2\\\\SpeechRecog+SpellingCorrect\\\\dataset_text\\\\tagalog\\\\res_0212.txt',\n",
       " 'D:\\\\Coding Projects\\\\OJT2\\\\SpeechRecog+SpellingCorrect\\\\dataset_text\\\\tagalog\\\\res_0213.txt',\n",
       " 'D:\\\\Coding Projects\\\\OJT2\\\\SpeechRecog+SpellingCorrect\\\\dataset_text\\\\tagalog\\\\res_0214.txt',\n",
       " 'D:\\\\Coding Projects\\\\OJT2\\\\SpeechRecog+SpellingCorrect\\\\dataset_text\\\\tagalog\\\\res_0215.txt',\n",
       " 'D:\\\\Coding Projects\\\\OJT2\\\\SpeechRecog+SpellingCorrect\\\\dataset_text\\\\tagalog\\\\res_0216.txt',\n",
       " 'D:\\\\Coding Projects\\\\OJT2\\\\SpeechRecog+SpellingCorrect\\\\dataset_text\\\\tagalog\\\\res_0217.txt',\n",
       " 'D:\\\\Coding Projects\\\\OJT2\\\\SpeechRecog+SpellingCorrect\\\\dataset_text\\\\tagalog\\\\res_0218.txt',\n",
       " 'D:\\\\Coding Projects\\\\OJT2\\\\SpeechRecog+SpellingCorrect\\\\dataset_text\\\\tagalog\\\\res_0219.txt',\n",
       " 'D:\\\\Coding Projects\\\\OJT2\\\\SpeechRecog+SpellingCorrect\\\\dataset_text\\\\tagalog\\\\res_0220.txt',\n",
       " 'D:\\\\Coding Projects\\\\OJT2\\\\SpeechRecog+SpellingCorrect\\\\dataset_text\\\\tagalog\\\\res_0221.txt',\n",
       " 'D:\\\\Coding Projects\\\\OJT2\\\\SpeechRecog+SpellingCorrect\\\\dataset_text\\\\tagalog\\\\res_0222.txt',\n",
       " 'D:\\\\Coding Projects\\\\OJT2\\\\SpeechRecog+SpellingCorrect\\\\dataset_text\\\\tagalog\\\\res_0223.txt',\n",
       " 'D:\\\\Coding Projects\\\\OJT2\\\\SpeechRecog+SpellingCorrect\\\\dataset_text\\\\tagalog\\\\res_0224.txt',\n",
       " 'D:\\\\Coding Projects\\\\OJT2\\\\SpeechRecog+SpellingCorrect\\\\dataset_text\\\\tagalog\\\\res_0225.txt',\n",
       " 'D:\\\\Coding Projects\\\\OJT2\\\\SpeechRecog+SpellingCorrect\\\\dataset_text\\\\tagalog\\\\res_0226.txt',\n",
       " 'D:\\\\Coding Projects\\\\OJT2\\\\SpeechRecog+SpellingCorrect\\\\dataset_text\\\\tagalog\\\\res_0227.txt',\n",
       " 'D:\\\\Coding Projects\\\\OJT2\\\\SpeechRecog+SpellingCorrect\\\\dataset_text\\\\tagalog\\\\res_0228.txt',\n",
       " 'D:\\\\Coding Projects\\\\OJT2\\\\SpeechRecog+SpellingCorrect\\\\dataset_text\\\\tagalog\\\\res_0229.txt',\n",
       " 'D:\\\\Coding Projects\\\\OJT2\\\\SpeechRecog+SpellingCorrect\\\\dataset_text\\\\tagalog\\\\res_0230.txt',\n",
       " 'D:\\\\Coding Projects\\\\OJT2\\\\SpeechRecog+SpellingCorrect\\\\dataset_text\\\\tagalog\\\\res_0231.txt',\n",
       " 'D:\\\\Coding Projects\\\\OJT2\\\\SpeechRecog+SpellingCorrect\\\\dataset_text\\\\tagalog\\\\res_0232.txt',\n",
       " 'D:\\\\Coding Projects\\\\OJT2\\\\SpeechRecog+SpellingCorrect\\\\dataset_text\\\\tagalog\\\\res_0233.txt',\n",
       " 'D:\\\\Coding Projects\\\\OJT2\\\\SpeechRecog+SpellingCorrect\\\\dataset_text\\\\tagalog\\\\res_0234.txt',\n",
       " 'D:\\\\Coding Projects\\\\OJT2\\\\SpeechRecog+SpellingCorrect\\\\dataset_text\\\\tagalog\\\\res_0235.txt',\n",
       " 'D:\\\\Coding Projects\\\\OJT2\\\\SpeechRecog+SpellingCorrect\\\\dataset_text\\\\tagalog\\\\res_0236.txt',\n",
       " 'D:\\\\Coding Projects\\\\OJT2\\\\SpeechRecog+SpellingCorrect\\\\dataset_text\\\\tagalog\\\\res_0237.txt',\n",
       " 'D:\\\\Coding Projects\\\\OJT2\\\\SpeechRecog+SpellingCorrect\\\\dataset_text\\\\tagalog\\\\res_0238.txt',\n",
       " 'D:\\\\Coding Projects\\\\OJT2\\\\SpeechRecog+SpellingCorrect\\\\dataset_text\\\\tagalog\\\\res_0239.txt',\n",
       " 'D:\\\\Coding Projects\\\\OJT2\\\\SpeechRecog+SpellingCorrect\\\\dataset_text\\\\tagalog\\\\res_0240.txt',\n",
       " 'D:\\\\Coding Projects\\\\OJT2\\\\SpeechRecog+SpellingCorrect\\\\dataset_text\\\\tagalog\\\\res_0241.txt',\n",
       " 'D:\\\\Coding Projects\\\\OJT2\\\\SpeechRecog+SpellingCorrect\\\\dataset_text\\\\tagalog\\\\res_0242.txt',\n",
       " 'D:\\\\Coding Projects\\\\OJT2\\\\SpeechRecog+SpellingCorrect\\\\dataset_text\\\\tagalog\\\\res_0243.txt',\n",
       " 'D:\\\\Coding Projects\\\\OJT2\\\\SpeechRecog+SpellingCorrect\\\\dataset_text\\\\tagalog\\\\res_0244.txt',\n",
       " 'D:\\\\Coding Projects\\\\OJT2\\\\SpeechRecog+SpellingCorrect\\\\dataset_text\\\\tagalog\\\\res_0245.txt',\n",
       " 'D:\\\\Coding Projects\\\\OJT2\\\\SpeechRecog+SpellingCorrect\\\\dataset_text\\\\tagalog\\\\res_0246.txt',\n",
       " 'D:\\\\Coding Projects\\\\OJT2\\\\SpeechRecog+SpellingCorrect\\\\dataset_text\\\\tagalog\\\\res_0247.txt',\n",
       " 'D:\\\\Coding Projects\\\\OJT2\\\\SpeechRecog+SpellingCorrect\\\\dataset_text\\\\tagalog\\\\res_0248.txt',\n",
       " 'D:\\\\Coding Projects\\\\OJT2\\\\SpeechRecog+SpellingCorrect\\\\dataset_text\\\\tagalog\\\\res_0249.txt',\n",
       " 'D:\\\\Coding Projects\\\\OJT2\\\\SpeechRecog+SpellingCorrect\\\\dataset_text\\\\tagalog\\\\res_0250.txt',\n",
       " 'D:\\\\Coding Projects\\\\OJT2\\\\SpeechRecog+SpellingCorrect\\\\dataset_text\\\\tagalog\\\\res_0251.txt',\n",
       " 'D:\\\\Coding Projects\\\\OJT2\\\\SpeechRecog+SpellingCorrect\\\\dataset_text\\\\tagalog\\\\res_0252.txt',\n",
       " 'D:\\\\Coding Projects\\\\OJT2\\\\SpeechRecog+SpellingCorrect\\\\dataset_text\\\\tagalog\\\\res_0253.txt',\n",
       " 'D:\\\\Coding Projects\\\\OJT2\\\\SpeechRecog+SpellingCorrect\\\\dataset_text\\\\tagalog\\\\res_0254.txt',\n",
       " 'D:\\\\Coding Projects\\\\OJT2\\\\SpeechRecog+SpellingCorrect\\\\dataset_text\\\\tagalog\\\\res_0255.txt',\n",
       " 'D:\\\\Coding Projects\\\\OJT2\\\\SpeechRecog+SpellingCorrect\\\\dataset_text\\\\tagalog\\\\res_0256.txt',\n",
       " 'D:\\\\Coding Projects\\\\OJT2\\\\SpeechRecog+SpellingCorrect\\\\dataset_text\\\\tagalog\\\\res_0257.txt',\n",
       " 'D:\\\\Coding Projects\\\\OJT2\\\\SpeechRecog+SpellingCorrect\\\\dataset_text\\\\tagalog\\\\res_0258.txt',\n",
       " 'D:\\\\Coding Projects\\\\OJT2\\\\SpeechRecog+SpellingCorrect\\\\dataset_text\\\\tagalog\\\\res_0259.txt',\n",
       " 'D:\\\\Coding Projects\\\\OJT2\\\\SpeechRecog+SpellingCorrect\\\\dataset_text\\\\tagalog\\\\res_0260.txt',\n",
       " 'D:\\\\Coding Projects\\\\OJT2\\\\SpeechRecog+SpellingCorrect\\\\dataset_text\\\\tagalog\\\\res_0261.txt',\n",
       " 'D:\\\\Coding Projects\\\\OJT2\\\\SpeechRecog+SpellingCorrect\\\\dataset_text\\\\tagalog\\\\res_0262.txt',\n",
       " 'D:\\\\Coding Projects\\\\OJT2\\\\SpeechRecog+SpellingCorrect\\\\dataset_text\\\\tagalog\\\\res_0263.txt',\n",
       " 'D:\\\\Coding Projects\\\\OJT2\\\\SpeechRecog+SpellingCorrect\\\\dataset_text\\\\tagalog\\\\res_0264.txt',\n",
       " 'D:\\\\Coding Projects\\\\OJT2\\\\SpeechRecog+SpellingCorrect\\\\dataset_text\\\\tagalog\\\\res_0265.txt',\n",
       " 'D:\\\\Coding Projects\\\\OJT2\\\\SpeechRecog+SpellingCorrect\\\\dataset_text\\\\tagalog\\\\res_0266.txt',\n",
       " 'D:\\\\Coding Projects\\\\OJT2\\\\SpeechRecog+SpellingCorrect\\\\dataset_text\\\\tagalog\\\\res_0267.txt',\n",
       " 'D:\\\\Coding Projects\\\\OJT2\\\\SpeechRecog+SpellingCorrect\\\\dataset_text\\\\tagalog\\\\res_0268.txt',\n",
       " 'D:\\\\Coding Projects\\\\OJT2\\\\SpeechRecog+SpellingCorrect\\\\dataset_text\\\\tagalog\\\\res_0269.txt',\n",
       " 'D:\\\\Coding Projects\\\\OJT2\\\\SpeechRecog+SpellingCorrect\\\\dataset_text\\\\tagalog\\\\res_0270.txt',\n",
       " 'D:\\\\Coding Projects\\\\OJT2\\\\SpeechRecog+SpellingCorrect\\\\dataset_text\\\\tagalog\\\\res_0271.txt',\n",
       " 'D:\\\\Coding Projects\\\\OJT2\\\\SpeechRecog+SpellingCorrect\\\\dataset_text\\\\tagalog\\\\res_0272.txt',\n",
       " 'D:\\\\Coding Projects\\\\OJT2\\\\SpeechRecog+SpellingCorrect\\\\dataset_text\\\\tagalog\\\\res_0273.txt',\n",
       " 'D:\\\\Coding Projects\\\\OJT2\\\\SpeechRecog+SpellingCorrect\\\\dataset_text\\\\tagalog\\\\res_0274.txt',\n",
       " 'D:\\\\Coding Projects\\\\OJT2\\\\SpeechRecog+SpellingCorrect\\\\dataset_text\\\\tagalog\\\\res_0275.txt',\n",
       " 'D:\\\\Coding Projects\\\\OJT2\\\\SpeechRecog+SpellingCorrect\\\\dataset_text\\\\tagalog\\\\res_0276.txt']"
      ]
     },
     "execution_count": 16,
     "metadata": {},
     "output_type": "execute_result"
    }
   ],
   "source": [
    "listAudioLabels"
   ]
  },
  {
   "cell_type": "markdown",
   "id": "278e4f79",
   "metadata": {},
   "source": [
    "### Preprocess text"
   ]
  },
  {
   "cell_type": "code",
   "execution_count": 17,
   "id": "24bb8583",
   "metadata": {},
   "outputs": [],
   "source": [
    "file_contents = []\n",
    "for file_path in listAudioLabels:\n",
    "    with open(file_path, 'r', encoding='utf-8') as file:\n",
    "        content = file.read()\n",
    "        file_contents.append(content)"
   ]
  },
  {
   "cell_type": "code",
   "execution_count": 18,
   "id": "883e3fa2",
   "metadata": {},
   "outputs": [],
   "source": [
    "# file_contents"
   ]
  },
  {
   "cell_type": "code",
   "execution_count": 19,
   "id": "bc0ea7fb",
   "metadata": {},
   "outputs": [],
   "source": [
    "def get_sublist_with_numbers(strings):\n",
    "    pattern = r'\\d'\n",
    "    sublist_with_numbers = [s for s in strings if re.search(pattern, s)]\n",
    "    return sublist_with_numbers"
   ]
  },
  {
   "cell_type": "code",
   "execution_count": 20,
   "id": "da3b3da7",
   "metadata": {},
   "outputs": [],
   "source": [
    "sublist_with_numbers = get_sublist_with_numbers(file_contents)"
   ]
  },
  {
   "cell_type": "markdown",
   "id": "bad0e3b0",
   "metadata": {},
   "source": [
    "### Replace the number with text representation"
   ]
  },
  {
   "cell_type": "markdown",
   "id": "393bccf0",
   "metadata": {},
   "source": [
    " - Also added dictionary that maps value to expected responses. The dict key represents the most probable response uttered by the speaker\n",
    " \n",
    " - Here ranges are first "
   ]
  },
  {
   "cell_type": "markdown",
   "id": "fe2a79f5",
   "metadata": {},
   "source": [
    "<b> Many-to-One Relationship"
   ]
  },
  {
   "cell_type": "code",
   "execution_count": 118,
   "id": "7217042f",
   "metadata": {
    "code_folding": []
   },
   "outputs": [],
   "source": [
    "dictionaryTagalogRanges = {\n",
    "    \"eleven minutes\" : \"11 hanggang 20 minuto\",\n",
    "    \"tweleve minutes\" : \"11 hanggang 20 minuto\",\n",
    "    \"thirteen minutes\" : \"11 hanggang 20 minuto\",\n",
    "    \"fourteen minutes\" : \"11 hanggang 20 minuto\",\n",
    "    \"fifteen minutes\" : \"11 hanggang 20 minuto\",\n",
    "    \"sixteen minutes\" : \"11 hanggang 20 minuto\",\n",
    "    \"seventeen minutes\" : \"11 hanggang 20 minuto\",\n",
    "    \"eighteen minutes\" : \"11 hanggang 20 minuto\",\n",
    "    \"nineteen minutes\" : \"11 hanggang 20 minuto\",\n",
    "    \"twenty minutes\" : \"11 hanggang 20 minuto\",\n",
    "    \"labing-isa hanggang dalawampu minuto\": \"11 hanggang 20 minuto\",\n",
    "\n",
    "#     \"four\" : '4 to 7',\n",
    "#     \"five\" : '4 to 7',\n",
    "#     \"six\" : '4 to 7',\n",
    "#     \"seven\": '4 to 7',\n",
    "    \"isang araw nakalipas\": '2 - 4 araw nakalipas',\n",
    "    \"dalawang araw nakalipas\": '2 - 4 araw nakalipas', \n",
    "    \"tatlong araw nakalipas\": '2 - 4 araw nakalipas', \n",
    "    \"apat araw nakalipas\": '2 - 4 araw nakalipas',\n",
    "    \"dalawa hanggang apat araw nakalipas\": '2 - 4 araw nakalipas',\n",
    "\n",
    "    \"tatlong beses\": '3  - 5 beses', \n",
    "    \"apat na beses\": '3  - 5 beses', \n",
    "    \"limang beses\": '3  - 5 beses',\n",
    "    \n",
    "    \"tatlo  hanggang lima beses\": '3  - 5 beses', \n",
    "\n",
    "    \"anim na beses\": '4 - 6 beses', \n",
    "    \"apat hanggang anim beses\": '4 - 6 beses',\n",
    "\n",
    "    \"dalawang araw lumipas\": '2 - 4 araw lumipas', \n",
    "    \"tatlong araw lumipas\": '2 - 4 araw lumipas', \n",
    "    \"apat na araw lumipas\": '2 - 4 araw lumipas', \n",
    "    \"dalawa hanggang apat na araw lumipas\": '2 - 4 araw lumipas',\n",
    "\n",
    "    \"isang araw\": '1 - 3 araw', \n",
    "    \"dalawang araw\": '1 - 3 araw', \n",
    "    \"tatlong araw\": '1 - 3 araw', \n",
    "    \"isa hanggang tatlo\": '1 - 3 araw', \n",
    "    \"isahanggangtatlo araw\": '1 - 3 araw', \n",
    "    \n",
    "    \"dalawa hanggang apat na araw\": '2 - 4 na araw', \n",
    "\n",
    "    \"pito na araw\": '7 - 10 na araw', \n",
    "    \"pito hanggang sampu na araw\": '7 - 10 na araw',\n",
    "\n",
    "    \"walo na araw\": '8 - 10 na araw',\n",
    "    \"siyam na araw\": '8 - 10 na araw', \n",
    "    \"sampu na araw\": '8 - 10 na araw', \n",
    "    \"walo hanggang sampu na araw\": '8 - 10 na araw',\n",
    "\n",
    "    \"limang araw lumipas\": '5 - 7 araw lumipas', \n",
    "    \"anim araw lumipas\": '5 - 7 araw lumipas', \n",
    "    \"pitong araw lumipas\": '5 - 7 araw lumipas', \n",
    "    \"lima hanggang pito na araw lumipas\": '5 - 7 araw lumipas',\n",
    "\n",
    "    \"apat na araw\": '4-6 araw', \n",
    "    \"lima na araw\": '4-6 araw', \n",
    "    \"anim na araw\": '4-6 araw',\n",
    "    \"apathangganganim araw\": '4-6 araw',\n",
    "#     '1 - 3', \n",
    "    \"lima na araw lumipas\": '5 - 7 na araw lumipas', \n",
    "    \"anim na araw lumipas\": '5 - 7 na araw lumipas', \n",
    "    \"pito na araw lumipas\": '5 - 7 na araw lumipas',\n",
    "    \"lima hanggang pito araw lumipas\": '5 - 7 na araw lumipas',\n",
    "\n",
    "\n",
    "    \"lima na araw\": '5 - 7 na araw', \n",
    "    \"anim na araw\": '5 - 7 na araw',\n",
    "    \"lima hanggang pito na araw\": '5 - 7 na araw',\n",
    "    \"isang linggo\": '1 - 2 linggo', \n",
    "    \"dalawang linggo\": '1 - 2 linggo', \n",
    "    \"isa hanggang dalawa linggo\": '1 - 2 linggo', \n",
    "    \"limang araw nakalipas\": '5 - 7 araw nakalipas', \n",
    "    \"anim araw nakalipas\": '5 - 7 araw nakalipas', \n",
    "    \"pitong araw nakalipas\": '5 - 7 araw nakalipas', \n",
    "    \"lima hanggang pito araw nakalipas\": '5 - 7 araw nakalipas',\n",
    "\n",
    "    \"lima hanggang pito araw nakalipas\": '5 - 7 araw nakalipas', \n",
    "    \"isang minuto\": '1 - 5 minuto',\n",
    "    \"dalawang minuto\": '1 - 5 minuto', \n",
    "    \"tatlong minuto\": '1 - 5 minuto', \n",
    "    \"apat na minuto\": '1 - 5 minuto', \n",
    "    \"limang minuto\": '1 - 5 minuto', \n",
    "    \"isa hanggang lima minuto\": '1 - 5 minuto',\n",
    "    \"limang araw\": '5 araw - 1 linggo',\n",
    "    \"anim na araw\": '5 araw - 1 linggo', \n",
    "    \"issang linggo\": '5 araw - 1 linggo', \n",
    "\n",
    "    \"limang araw\": '5 araw -1 linggo',\n",
    "    \"anim na araw\": '5 araw -1 linggo', \n",
    "    \"issang linggo\": '5 araw -1 linggo', \n",
    "    \"lima araw hanggang isa linggo\": '5 araw -1 linggo', \n",
    "    \"dalawang araw\":'2 - 3 araw', \n",
    "    \"tatlong araw\":'2 - 3 araw', \n",
    "    \"dalawa hanggang tatlo araw\" :'2 - 3 araw',\n",
    "\n",
    "    \"dalawang beses\": '2 - 3 beses', \n",
    "    \"tatlong beses\": '2 - 3 beses', \n",
    "    \"dalawa hanggang tatlo araw\": '2 - 3 beses',\n",
    "    \"dalawa hanggang tatlo beses\": '2 - 3 beses',\n",
    "    \"isang araw\": '1 - 3 na araw', \n",
    "    \"dalawang araw\": '1 - 3 na araw', \n",
    "    \"tatlong araw\": '1 - 3 na araw', \n",
    "    \"isa hanggang tatlo araw\": '1 - 3 na araw',\n",
    "    \"isang beses\": '1 - 3 beses', \n",
    "    \"dalawang beses\": '1 - 3 beses', \n",
    "    \"tatlong beses\": '1 - 3 beses', \n",
    "    \"isa hanggang tatlo beses\": '1 - 3 beses',\n",
    "    \"pito beses - pataas\": '7 beses - pataas',\n",
    "    \"walong beses\": '7 beses - pataas',\n",
    "    \"syam na beses\": '7 beses - pataas',\n",
    "    \"sampung beses\": '7 beses - pataas',\n",
    "\n",
    "#     '4 - 6', \n",
    "    \"isang oras\": '1 - 5 na oras', \n",
    "    \"dalawang oras\": '1 - 5 na oras', \n",
    "    \"tatlong oras\": '1 - 5 na oras', \n",
    "    \"apat na oras\": '1 - 5 na oras', \n",
    "    \"limang oras\": '1 - 5 na oras',\n",
    "    \"isa hanggang lima na oras\": '1 - 5 na oras',\n",
    "\n",
    "    \"isang minuto\" :'1 - 30 na minuto',\n",
    "    \"five minutes\" :'1 - 30 na minuto', \n",
    "    \"sampung minuto\" :'1 - 30 na minuto', \n",
    "    \"fifteen minutes\" :'1 - 30 na minuto', \n",
    "    \"twenty minutes\" :'1 - 30 na minuto', \n",
    "    \"twenty five minutes\" :'1 - 30 na minuto',\n",
    "    \"twenty five minutes\" :'1 - 30 na minuto', \n",
    "\n",
    "    \"apat na araw\": '4 - 6 na araw',\n",
    "    \"lima na araw\": '4 - 6 na araw',\n",
    "    \"anim na araw\": '4 - 6 na araw',\n",
    "    \"apat hanggang anim na araw\": '4 - 6 na araw',\n",
    "    \n",
    "    \"dalawang araw lumipas\": '2 - 4 na araw lumipas', \n",
    "    \"tatlong araw lumipas\": '2 - 4 na araw lumipas', \n",
    "    \"apat na araw lumipas\": '2 - 4 na araw lumipas', \n",
    "    \"dalawa hanggang apat araw lumipas\": '2 - 4 na araw lumipas', \n",
    "\n",
    "    \"isang araw\": '1-3 araw', \n",
    "    \"dalawang araw\": '1-3 araw', \n",
    "    \"tatlong araw\": '1-3 araw', \n",
    "\n",
    "    \"apat na araw\": '2 - 4 na araw', \n",
    "    \n",
    "    \"thirty minutes\": '31 - 60 na minuto', \n",
    "    \"fourty minutes\": '31 - 60 na minuto', \n",
    "    \"fifty minutes\": '31 - 60 na minuto',\n",
    "    \"sixty minutes\": '31 - 60 na minuto', \n",
    "    \"one hour\": '31 - 60 na minuto', \n",
    "    \"thirthy one hanggang sixty na minuto\": '31 - 60 na minuto',\n",
    "    \"tatlumput isa hanggang isang oras\": '31 - 60 na minuto', \n",
    "    \n",
    "    \"six minutes\": '6 - 10 minuto',\n",
    "    \"seven minutes\": '6 - 10 minuto',\n",
    "    \"eight minutes\": '6 - 10 minuto',\n",
    "    \"nine minutes\": '6 - 10 minuto',\n",
    "    \"ten minutes\": '6 - 10 minuto',\n",
    "    \"anim hanggang sampu minuto\": '6 - 10 minuto',\n",
    "    \n",
    "    \"isa hanggang sampu minuto\": '1 - 10 minuto',\n",
    "    \"one minute\": '1 - 10 minuto',\n",
    "    \"two minutes\": '1 - 10 minuto',\n",
    "    \"three minutes\": '1 - 10 minuto',\n",
    "    \"four minutes\": '1 - 10 minuto',\n",
    "    \"five minutes\": '1 - 10 minuto',\n",
    "    \"isa hanggang tatlumput na minuto\": '1 - 10 minuto',\n",
    "    \"apat hanggang anim\": '4 - 6'\n",
    "    \n",
    "\n",
    "}"
   ]
  },
  {
   "cell_type": "markdown",
   "id": "61ba97cd",
   "metadata": {},
   "source": [
    "<b> One-to-Many Relationship so you can grab the expected the answers"
   ]
  },
  {
   "cell_type": "code",
   "execution_count": 119,
   "id": "b19d0d1f",
   "metadata": {},
   "outputs": [],
   "source": [
    "value_to_keys = defaultdict(list)\n",
    "\n",
    "for key, value in dictionaryTagalogRanges.items():\n",
    "    value_to_keys[value].append(key)"
   ]
  },
  {
   "cell_type": "code",
   "execution_count": 120,
   "id": "dcb0332d",
   "metadata": {},
   "outputs": [],
   "source": [
    "keys_list = list(dictionaryTagalogRanges.keys())"
   ]
  },
  {
   "cell_type": "markdown",
   "id": "fe3d1d6c",
   "metadata": {},
   "source": [
    "#### Replace rest of numbers to text representation"
   ]
  },
  {
   "cell_type": "code",
   "execution_count": 121,
   "id": "68e5cd7e",
   "metadata": {},
   "outputs": [],
   "source": [
    "p = inflect.engine()\n",
    "\n",
    "def number_to_text(number):\n",
    "    return p.number_to_words(number)\n",
    "\n",
    "def range_to_text(range_str):\n",
    "    # Check if the range contains a decimal point\n",
    "    if '.' in range_str:\n",
    "        # Split the range string by hyphen\n",
    "        start, end = range_str.split('-')\n",
    "        start = start.strip()\n",
    "        end = end.strip()\n",
    "\n",
    "        # Convert both parts of the range to text\n",
    "        start_text = number_to_text(start)\n",
    "        end_text = number_to_text(end)\n",
    "\n",
    "        return f\"{start_text} to {end_text}\"\n",
    "    else:\n",
    "        return range_str  # Return the original string if no decimal point\n"
   ]
  },
  {
   "cell_type": "code",
   "execution_count": 122,
   "id": "7012c86d",
   "metadata": {},
   "outputs": [
    {
     "name": "stdout",
     "output_type": "stream",
     "text": [
      "['higit sa 7', 'wala pang 3 beses', '2 - 4 araw nakalipas', 'pagkaing dagat', 'dalawa', 'pangangati', 'malambot', '3  - 5 beses', 'paggamot ng root canal', 'usok/alikabok', 'brownish', 'pasta/spaghetti', '4 - 6 beses', 'wala pang 1 linggo', '2 - 4 araw lumipas', 'thirty-eight point three to thirty-eight point six', 'dalawa kada linggo', 'near-sighted', 'pre existing condition', 'itim', 'loob', 'ubo', 'wala pang 1 araw', 'isa kada linggo', '38', 'dalawa kada araw', 'medication', '1 - 3 araw', 'aso', 'pusa', '11 hanggang 20 minuto', '3', '7 - 10 na araw', '0', 'medyo', 'higit 1 linggong nakalipas', 'tuyo', 'neozep', '8 - 10 na araw', 'foreign object', 'dahil sa mga fluids', 'higit sa 10 minuto', 'avulsion', 'asul', 'puncture', 'exposure sa chlorine', 'kanina/ngayon lang', '5 - 7 araw lumipas', 'tulog', 'lima', 'nadulas/nahulog', 'tinapay/pandesal', 'pula', '9', '7 pataas', '4-6 araw', 'may dugo', '1 - 3', 'pisikal na ehersisyo', 'wala pa isang linggo', 'higit sa 5 beses', 'hindi kailanman', 'buwan', '5 - 7 na araw lumipas', '8 pataas', 'ilang araw lang', '1', 'higit sa 1 buwan', 'higit sa 20 minuto', '5 - 7 na araw', 'maputla', '4 to 7', 'pareho', 'aspirin', 'pamamantal', 'pito', 'wala pang 1 buwan', 'pag-bunot ng ngipin', 'wala pa isang minuto', 'mga oras lang', 'dilaw', 'di ko alam', 'bioflu', 'skin irritants', 'hindi', '5', 'band-aid', 'food intake', '7', 'sunburn', '1 - 2 linggo', 'kulay-rosas/pula', 'gulay', 'ibang dahilan', 'matingkad na pula', '5 - 7 araw nakalipas', 'labis na ehersisyo', 'higit sa 5 oras', 'thirty-seven point nine to thirty-eight point two', 'ngayong araw', 'mani', 'higit sa 39', 'di higit sa isang araw', 'matubig', 'pagbahing', 'wala akong maalala', 'puti', 'antibiotics', 'wala pa isang buwan', 'kayumanggi/dark red', 'isa', 'merong plema', '1 o higit pang buwan', 'nalimutan ko', 'pahinga', 'mga allergies', 'laceration', 'dahil sa pagkain', 'gatas', 'wala naman pong iba', '6', '1 - 5 minuto', '1 hanggang 10 minuto', 'oras', 'human fault', 'kaliwa at kanan', 'no choices (free response)', 'tubig', 'yellowish', '5 araw - 1 linggo', '2 - 3 araw', 'hindi ko maalala o alam', 'wala pa isang oras', 'itlog', 'mahigit isang buwan', 'thirty-seven point five to thirty-seven point eight', 'linggong nakalipas', 'apat', 'oo', 'kaagad-agad', 'dysmenorrhea', '2 - 3 beses', 'mga segundo lang', 'sa panig ng ina', '2', 'pasta', 'hindi ko nabilang', 'nakaraang linggo', 'oras na nalipas', 'trauma/injury', 'mga minuto lang', 'dehydration', 'tatlo', 'dahil sa trauma', 'isa kada araw', '1 - 3 na araw', 'lagpas sa isang linggo', 'kulay rosas', 'kulay abo', 'ilang oras lang', 'manok, baboy o baka', 'nakaraaang buwan', 'dibdib', 'kamay/braso', 'wala', 'mga ilang araw', 'far-sighted', 'meron pa po pero okay naman po ako', 'nakalmot ang mata', '1 - 3 beses', 'nakaraang buwan', 'mga painkiller na gamot', 'gamot 1', 'paa', 'kaliwa', 'higit sa 10 araw', '39', 'hindi ko maalala', 'higit sa 6 na beses', 'higit sa 2 linggo', 'kape/tsaa', 'anim', 'baka', 'higit sa 24 oras', 'sa harapan', 'nakaraang taon', 'agad-agad', 'linggo', 'pagduduwal at pagsusuka', 'higit sa 1 linggo', 'ilang minuto lang', '4 - 6', 'buo', 'bloody', '1 - 5 na oras', 'hindi sigurado', 'pamumula', 'iba pa', 'mga prutas', 'higit sa isang linggo', '4', 'wala pa isang araw', 'atis', 'tatlo kada araw', 'mukha', '1 - 30 na minuto', 'hindi ko alam', 'nabangga ng sasakyan', '4 - 6 na araw', 'dahon ng sambong', '1 to 3', 'dahil sa gamot', 'hirap sa paghinga', 'higit dalawa kada linggo', 'matulis', 'pre-existing na kondisyon', 'abrasion', 'kulay kahel', '2 - 4 na araw lumipas', '1-3 araw', 'sabaw', '2 - 4 na araw', '31 - 60 na minuto', 'iba pang interbensyon', 'karahasan', 'taong nalipas', 'ibang kulay', 'ice cream/yogurt', 'lagnat', 'pamahid', 'kape', 'labas', 'softdrinks', 'wala pang 1 minuto', '8', 'berde', 'kalamansi', 'sa panig ng ama', 'buwan na nakalipas', 'wala pang isang minuto', 'mabilog', 'sa kanan', '5 araw -1 linggo', 'hight sa 10 araw', 'mas mababa', 'blister forming', '10', 'higit pa o katumbas doon', 'mahigit 7 araw', 'higit dalawang araw', 'direct sunlight', 'sa likuran', 'kanan', 'kayumanggi', 'pagod', 'minutong nakalipas', '1 linggong nakalipas', 'minsan', '6 - 10 minuto', 'oras na nakalipas', '40', 'orange', 'pamamaga', 'maitim', 'tumutulong sipon', 'thirty-eight point seven to thirty-nine', 'kulay-ube', 'mga ilang oras lang', 'lumayo sa mga allergens', 'sakit sa ulo', 'anti histamine', 'palagi', 'meron', 'kahapon', 'sa kaliwa', 'ngayon / kanina lang']\n"
     ]
    }
   ],
   "source": [
    "def process_list(file_contents):\n",
    "    for i, s in enumerate(file_contents):\n",
    "        if '-' in s and re.search(r'\\d', s):\n",
    "            file_contents[i] = range_to_text(s)\n",
    "    return file_contents\n",
    "\n",
    "# Apply the function to the list\n",
    "processed_file_contents = process_list(file_contents)\n",
    "\n",
    "print(processed_file_contents)"
   ]
  },
  {
   "cell_type": "markdown",
   "id": "9c1f971e",
   "metadata": {},
   "source": [
    "#### Convert another ranges to text representations"
   ]
  },
  {
   "cell_type": "code",
   "execution_count": 123,
   "id": "caff03d0",
   "metadata": {},
   "outputs": [],
   "source": [
    "numericals = {\n",
    "\"31 - 60\": \"thirty one to sixty\", \n",
    "\"31\": \"thirthy one\",\n",
    "\"60\": \"sixty\",\n",
    "    \n",
    "# \"31 - 60\":\"tatlumput isa hanggang animnapu\",\n",
    "# \"two to four\", \n",
    "\"2 - 4\": \"dalawa hanggang apat\",\n",
    "# \"one to three\", \n",
    "# \"four to six\", \n",
    "\"4 - 6\": \"apat hanggang anim\",\n",
    "# \"one to thirty minutes\", \n",
    "\"1 - 30\":\"isa hanggang tatlumpung minuto\",\n",
    "\"1 -30\":\"isa hanggang tatlumpung minuto\",\n",
    "\n",
    "\"1 - 3\": \"isa hanggang tatlo\",\n",
    "\n",
    "# \"one to five\", \n",
    "\"1 - 5\":\"isa hanggang lima\",\n",
    "# \"thirty seven point five to thirty seven point eight\", \n",
    "# \"37.5 - 37.8\":\"tatlumput pito point lima hanggang tatlumpu't pito point walo\",\n",
    "# \"one to ten\", \n",
    "\"1 - 10\":\"isa hanggang sampu\",\n",
    "# \"thirty seven point nine to thirty eight point two\",\n",
    "# \"37.9 - 38.2\":\"tatlumpu't pito point siyam hanggang tatlumput walo point dalawa\",\n",
    "# \"thirty eight point three to thirty eight point six\", \n",
    "# \"38.3 - 38.6\":\"tatlumput walo point tatlo hanggang tatlumput walo point anim\",\n",
    "# \"thirty eight point seven\",  \n",
    "# \"38.7\": \"tatlumput walo point pito\",\n",
    "# \"twenty\", \n",
    "\"20\": \"dalawampu\",\n",
    "\"11 - 20\":\"eleven to twenty\", \n",
    "# \"11 - 20\":\"labing isa hanggang dalawampu\",\n",
    "# \"thirty nine\", \n",
    "\"39\": \"tatlumput siyam\",\n",
    "\"30\": \"tatlumput\",\n",
    "# \"forty\", \n",
    "\"40\":\"apatnapu\",\n",
    "# \"twenty-four\", \n",
    "\"24\":\"dalawamput apat\",\n",
    "# \"thirty-nine\", \n",
    "\"38\": \"tatlumput siyam\",\n",
    "# \"six\", \n",
    "\"6\": \"anim\",\n",
    "# \"ten\", \n",
    "\"10\": \"sampu\",\n",
    "# \"seven\", \n",
    "\"7\":\"pito\",\n",
    "# \"five\", \n",
    "\"5\":\"lima\",\n",
    "# \"one\", \n",
    "\"11\":\"labing-isa\",\n",
    "\"1\":\"isa\",\n",
    "# \"eight\", \n",
    "\"9\": \"syam\",\n",
    "\"8\":\"walo\",\n",
    "\"3\": \"tatlo\",\n",
    "\"4\": \"apat\",\n",
    "\"0\": \"zero\",\n",
    "\"2\": \"dalawa\",\n",
    "}"
   ]
  },
  {
   "cell_type": "code",
   "execution_count": 124,
   "id": "4d60898f",
   "metadata": {
    "code_folding": []
   },
   "outputs": [],
   "source": [
    "def replace_numbers(text, numericals):\n",
    "    for number, word in numericals.items():\n",
    "        text = text.replace(number, word)\n",
    "    return text\n",
    "\n",
    "\n",
    "candidates = [\"beses\", \"minuto\", \"times\", \"minutes\", \"degress\", \"araw\", \"oras\", \"linggo\"]\n",
    "def replace_hyphen(text, candidates):\n",
    "    if any(word in text for word in candidates):\n",
    "        # Regular expression pattern to match hyphens between numbers and/or words with optional spaces\n",
    "        pattern = r'(\\b\\w+\\b\\s*-\\s*\\b\\w+\\b)'\n",
    "        replaced_text = re.sub(pattern, lambda m: m.group().replace('-', 'hanggang'), text)\n",
    "        return replaced_text\n",
    "    return text\n",
    "# def replace_hyphen(text):\n",
    "#     # Regular expression pattern to match hyphens enclosed by numbers or space + numbers\n",
    "#     pattern = r'(?<=\\d|\\d )-(?=\\d|\\d )'    \n",
    "#     replaced_text = re.sub(pattern, ' hanggang ', text)\n",
    "#     return replaced_text"
   ]
  },
  {
   "cell_type": "code",
   "execution_count": 125,
   "id": "ca9b263f",
   "metadata": {},
   "outputs": [],
   "source": [
    "tmp_contents = [replace_hyphen(sentence, candidates) for sentence in processed_file_contents]"
   ]
  },
  {
   "cell_type": "code",
   "execution_count": 126,
   "id": "5b47843f",
   "metadata": {},
   "outputs": [
    {
     "data": {
      "text/plain": [
       "['higit sa pito',\n",
       " 'wala pang tatlo beses',\n",
       " 'dalawa hanggang apat araw nakalipas',\n",
       " 'pagkaing dagat',\n",
       " 'dalawa',\n",
       " 'pangangati',\n",
       " 'malambot',\n",
       " 'tatlo  hanggang lima beses',\n",
       " 'paggamot ng root canal',\n",
       " 'usok/alikabok',\n",
       " 'brownish',\n",
       " 'pasta/spaghetti',\n",
       " 'apat hanggang anim beses',\n",
       " 'wala pang isa linggo',\n",
       " 'dalawa hanggang apat araw lumipas',\n",
       " 'thirty-eight point three to thirty-eight point six',\n",
       " 'dalawa kada linggo',\n",
       " 'near-sighted',\n",
       " 'pre existing condition',\n",
       " 'itim',\n",
       " 'loob',\n",
       " 'ubo',\n",
       " 'wala pang isa araw',\n",
       " 'isa kada linggo',\n",
       " 'tatlumput siyam',\n",
       " 'dalawa kada araw',\n",
       " 'medication',\n",
       " 'isa hanggang tatlo araw',\n",
       " 'aso',\n",
       " 'pusa',\n",
       " 'labing-isa hanggang dalawampu minuto',\n",
       " 'tatlo',\n",
       " 'pito hanggang sampu na araw',\n",
       " 'zero',\n",
       " 'medyo',\n",
       " 'higit isa linggong nakalipas',\n",
       " 'tuyo',\n",
       " 'neozep',\n",
       " 'walo hanggang sampu na araw',\n",
       " 'foreign object',\n",
       " 'dahil sa mga fluids',\n",
       " 'higit sa sampu minuto',\n",
       " 'avulsion',\n",
       " 'asul',\n",
       " 'puncture',\n",
       " 'exposure sa chlorine',\n",
       " 'kanina/ngayon lang',\n",
       " 'lima hanggang pito araw lumipas',\n",
       " 'tulog',\n",
       " 'lima',\n",
       " 'nadulas/nahulog',\n",
       " 'tinapay/pandesal',\n",
       " 'pula',\n",
       " 'syam',\n",
       " 'pito pataas',\n",
       " 'apathangganganim araw',\n",
       " 'may dugo',\n",
       " 'isa hanggang tatlo',\n",
       " 'pisikal na ehersisyo',\n",
       " 'wala pa isang linggo',\n",
       " 'higit sa lima beses',\n",
       " 'hindi kailanman',\n",
       " 'buwan',\n",
       " 'lima hanggang pito na araw lumipas',\n",
       " 'walo pataas',\n",
       " 'ilang araw lang',\n",
       " 'isa',\n",
       " 'higit sa isa buwan',\n",
       " 'higit sa dalawampu minuto',\n",
       " 'lima hanggang pito na araw',\n",
       " 'maputla',\n",
       " 'apat to pito',\n",
       " 'pareho',\n",
       " 'aspirin',\n",
       " 'pamamantal',\n",
       " 'pito',\n",
       " 'wala pang isa buwan',\n",
       " 'pag-bunot ng ngipin',\n",
       " 'wala pa isang minuto',\n",
       " 'mga oras lang',\n",
       " 'dilaw',\n",
       " 'di ko alam',\n",
       " 'bioflu',\n",
       " 'skin irritants',\n",
       " 'hindi',\n",
       " 'lima',\n",
       " 'band-aid',\n",
       " 'food intake',\n",
       " 'pito',\n",
       " 'sunburn',\n",
       " 'isa hanggang dalawa linggo',\n",
       " 'kulay-rosas/pula',\n",
       " 'gulay',\n",
       " 'ibang dahilan',\n",
       " 'matingkad na pula',\n",
       " 'lima hanggang pito araw nakalipas',\n",
       " 'labis na ehersisyo',\n",
       " 'higit sa lima oras',\n",
       " 'thirty-seven point nine to thirty-eight point two',\n",
       " 'ngayong araw',\n",
       " 'mani',\n",
       " 'higit sa tatlumput siyam',\n",
       " 'di higit sa isang araw',\n",
       " 'matubig',\n",
       " 'pagbahing',\n",
       " 'wala akong maalala',\n",
       " 'puti',\n",
       " 'antibiotics',\n",
       " 'wala pa isang buwan',\n",
       " 'kayumanggi/dark red',\n",
       " 'isa',\n",
       " 'merong plema',\n",
       " 'isa o higit pang buwan',\n",
       " 'nalimutan ko',\n",
       " 'pahinga',\n",
       " 'mga allergies',\n",
       " 'laceration',\n",
       " 'dahil sa pagkain',\n",
       " 'gatas',\n",
       " 'wala naman pong iba',\n",
       " 'anim',\n",
       " 'isa hanggang lima minuto',\n",
       " 'isa hanggang sampu minuto',\n",
       " 'oras',\n",
       " 'human fault',\n",
       " 'kaliwa at kanan',\n",
       " 'no choices (free response)',\n",
       " 'tubig',\n",
       " 'yellowish',\n",
       " 'lima araw hanggang isa linggo',\n",
       " 'dalawa hanggang tatlo araw',\n",
       " 'hindi ko maalala o alam',\n",
       " 'wala pa isang oras',\n",
       " 'itlog',\n",
       " 'mahigit isang buwan',\n",
       " 'thirty-seven point five to thirty-seven point eight',\n",
       " 'linggong nakalipas',\n",
       " 'apat',\n",
       " 'oo',\n",
       " 'kaagad-agad',\n",
       " 'dysmenorrhea',\n",
       " 'dalawa hanggang tatlo beses',\n",
       " 'mga segundo lang',\n",
       " 'sa panig ng ina',\n",
       " 'dalawa',\n",
       " 'pasta',\n",
       " 'hindi ko nabilang',\n",
       " 'nakaraang linggo',\n",
       " 'oras na nalipas',\n",
       " 'trauma/injury',\n",
       " 'mga minuto lang',\n",
       " 'dehydration',\n",
       " 'tatlo',\n",
       " 'dahil sa trauma',\n",
       " 'isa kada araw',\n",
       " 'isa hanggang tatlo na araw',\n",
       " 'lagpas sa isang linggo',\n",
       " 'kulay rosas',\n",
       " 'kulay abo',\n",
       " 'ilang oras lang',\n",
       " 'manok, baboy o baka',\n",
       " 'nakaraaang buwan',\n",
       " 'dibdib',\n",
       " 'kamay/braso',\n",
       " 'wala',\n",
       " 'mga ilang araw',\n",
       " 'far-sighted',\n",
       " 'meron pa po pero okay naman po ako',\n",
       " 'nakalmot ang mata',\n",
       " 'isa hanggang tatlo beses',\n",
       " 'nakaraang buwan',\n",
       " 'mga painkiller na gamot',\n",
       " 'gamot isa',\n",
       " 'paa',\n",
       " 'kaliwa',\n",
       " 'higit sa sampu araw',\n",
       " 'tatlumput siyam',\n",
       " 'hindi ko maalala',\n",
       " 'higit sa anim na beses',\n",
       " 'higit sa dalawa linggo',\n",
       " 'kape/tsaa',\n",
       " 'anim',\n",
       " 'baka',\n",
       " 'higit sa dalawamput apat oras',\n",
       " 'sa harapan',\n",
       " 'nakaraang taon',\n",
       " 'agad-agad',\n",
       " 'linggo',\n",
       " 'pagduduwal at pagsusuka',\n",
       " 'higit sa isa linggo',\n",
       " 'ilang minuto lang',\n",
       " 'apat hanggang anim',\n",
       " 'buo',\n",
       " 'bloody',\n",
       " 'isa hanggang lima na oras',\n",
       " 'hindi sigurado',\n",
       " 'pamumula',\n",
       " 'iba pa',\n",
       " 'mga prutas',\n",
       " 'higit sa isang linggo',\n",
       " 'apat',\n",
       " 'wala pa isang araw',\n",
       " 'atis',\n",
       " 'tatlo kada araw',\n",
       " 'mukha',\n",
       " 'isa hanggang tatlumput na minuto',\n",
       " 'hindi ko alam',\n",
       " 'nabangga ng sasakyan',\n",
       " 'apat hanggang anim na araw',\n",
       " 'dahon ng sambong',\n",
       " 'isa to tatlo',\n",
       " 'dahil sa gamot',\n",
       " 'hirap sa paghinga',\n",
       " 'higit dalawa kada linggo',\n",
       " 'matulis',\n",
       " 'pre-existing na kondisyon',\n",
       " 'abrasion',\n",
       " 'kulay kahel',\n",
       " 'dalawa hanggang apat na araw lumipas',\n",
       " 'isahanggangtatlo araw',\n",
       " 'sabaw',\n",
       " 'dalawa hanggang apat na araw',\n",
       " 'thirthy one hanggang sixty na minuto',\n",
       " 'iba pang interbensyon',\n",
       " 'karahasan',\n",
       " 'taong nalipas',\n",
       " 'ibang kulay',\n",
       " 'ice cream/yogurt',\n",
       " 'lagnat',\n",
       " 'pamahid',\n",
       " 'kape',\n",
       " 'labas',\n",
       " 'softdrinks',\n",
       " 'wala pang isa minuto',\n",
       " 'walo',\n",
       " 'berde',\n",
       " 'kalamansi',\n",
       " 'sa panig ng ama',\n",
       " 'buwan na nakalipas',\n",
       " 'wala pang isang minuto',\n",
       " 'mabilog',\n",
       " 'sa kanan',\n",
       " 'lima araw hanggangisa linggo',\n",
       " 'hight sa sampu araw',\n",
       " 'mas mababa',\n",
       " 'blister forming',\n",
       " 'sampu',\n",
       " 'higit pa o katumbas doon',\n",
       " 'mahigit pito araw',\n",
       " 'higit dalawang araw',\n",
       " 'direct sunlight',\n",
       " 'sa likuran',\n",
       " 'kanan',\n",
       " 'kayumanggi',\n",
       " 'pagod',\n",
       " 'minutong nakalipas',\n",
       " 'isa linggong nakalipas',\n",
       " 'minsan',\n",
       " 'anim hanggang sampu minuto',\n",
       " 'oras na nakalipas',\n",
       " 'apatnapu',\n",
       " 'orange',\n",
       " 'pamamaga',\n",
       " 'maitim',\n",
       " 'tumutulong sipon',\n",
       " 'thirty-eight point seven to thirty-nine',\n",
       " 'kulay-ube',\n",
       " 'mga ilang oras lang',\n",
       " 'lumayo sa mga allergens',\n",
       " 'sakit sa ulo',\n",
       " 'anti histamine',\n",
       " 'palagi',\n",
       " 'meron',\n",
       " 'kahapon',\n",
       " 'sa kaliwa',\n",
       " 'ngayon / kanina lang']"
      ]
     },
     "execution_count": 126,
     "metadata": {},
     "output_type": "execute_result"
    }
   ],
   "source": [
    "updated_contents = [replace_numbers(sentence, numericals) for sentence in tmp_contents]\n",
    "\n",
    "updated_contents"
   ]
  },
  {
   "cell_type": "markdown",
   "id": "0243404b",
   "metadata": {},
   "source": [
    "#### Print resulting preprocessed text. The order of labels before and after still the same"
   ]
  },
  {
   "cell_type": "code",
   "execution_count": 127,
   "id": "545da3a2",
   "metadata": {
    "code_folding": []
   },
   "outputs": [
    {
     "name": "stdout",
     "output_type": "stream",
     "text": [
      "dalawa hanggang apat araw nakalipas\n",
      "tatlo  hanggang lima beses\n",
      "apat hanggang anim beses\n",
      "dalawa hanggang apat araw lumipas\n",
      "isa hanggang tatlo araw\n",
      "labing-isa hanggang dalawampu minuto\n",
      "pito hanggang sampu na araw\n",
      "walo hanggang sampu na araw\n",
      "lima hanggang pito araw lumipas\n",
      "apathangganganim araw\n",
      "isa hanggang tatlo\n",
      "lima hanggang pito na araw lumipas\n",
      "lima hanggang pito na araw\n",
      "isa hanggang dalawa linggo\n",
      "lima hanggang pito araw nakalipas\n",
      "isa hanggang lima minuto\n",
      "isa hanggang sampu minuto\n",
      "lima araw hanggang isa linggo\n",
      "dalawa hanggang tatlo araw\n",
      "dalawa hanggang tatlo beses\n",
      "isa hanggang tatlo na araw\n",
      "isa hanggang tatlo beses\n",
      "apat hanggang anim\n",
      "isa hanggang lima na oras\n",
      "isa hanggang tatlumput na minuto\n",
      "apat hanggang anim na araw\n",
      "dalawa hanggang apat na araw lumipas\n",
      "isahanggangtatlo araw\n",
      "dalawa hanggang apat na araw\n",
      "thirthy one hanggang sixty na minuto\n",
      "lima araw hanggangisa linggo\n",
      "anim hanggang sampu minuto\n"
     ]
    }
   ],
   "source": [
    "for sentence in updated_contents:\n",
    "    if \"hanggang\" in sentence:\n",
    "        print(sentence)"
   ]
  },
  {
   "cell_type": "markdown",
   "id": "b1dda811",
   "metadata": {},
   "source": [
    "<b> Added keys_list, we'll know later why added here"
   ]
  },
  {
   "cell_type": "code",
   "execution_count": 128,
   "id": "9f376159",
   "metadata": {
    "scrolled": true
   },
   "outputs": [
    {
     "data": {
      "text/plain": [
       "['eleven minutes',\n",
       " 'tweleve minutes',\n",
       " 'thirteen minutes',\n",
       " 'fourteen minutes',\n",
       " 'fifteen minutes',\n",
       " 'sixteen minutes',\n",
       " 'seventeen minutes',\n",
       " 'eighteen minutes',\n",
       " 'nineteen minutes',\n",
       " 'twenty minutes',\n",
       " 'labing-isa hanggang dalawampu minuto',\n",
       " 'isang araw nakalipas',\n",
       " 'dalawang araw nakalipas',\n",
       " 'tatlong araw nakalipas',\n",
       " 'apat araw nakalipas',\n",
       " 'dalawa hanggang apat araw nakalipas',\n",
       " 'tatlong beses',\n",
       " 'apat na beses',\n",
       " 'limang beses',\n",
       " 'tatlo  hanggang lima beses',\n",
       " 'anim na beses',\n",
       " 'apat hanggang anim beses',\n",
       " 'dalawang araw lumipas',\n",
       " 'tatlong araw lumipas',\n",
       " 'apat na araw lumipas',\n",
       " 'dalawa hanggang apat na araw lumipas',\n",
       " 'isang araw',\n",
       " 'dalawang araw',\n",
       " 'tatlong araw',\n",
       " 'isa hanggang tatlo',\n",
       " 'isahanggangtatlo araw',\n",
       " 'dalawa hanggang apat na araw',\n",
       " 'pito na araw',\n",
       " 'pito hanggang sampu na araw',\n",
       " 'walo na araw',\n",
       " 'siyam na araw',\n",
       " 'sampu na araw',\n",
       " 'walo hanggang sampu na araw',\n",
       " 'limang araw lumipas',\n",
       " 'anim araw lumipas',\n",
       " 'pitong araw lumipas',\n",
       " 'lima hanggang pito na araw lumipas',\n",
       " 'apat na araw',\n",
       " 'lima na araw',\n",
       " 'anim na araw',\n",
       " 'apathangganganim araw',\n",
       " 'lima na araw lumipas',\n",
       " 'anim na araw lumipas',\n",
       " 'pito na araw lumipas',\n",
       " 'lima hanggang pito araw lumipas',\n",
       " 'lima hanggang pito na araw',\n",
       " 'isang linggo',\n",
       " 'dalawang linggo',\n",
       " 'isa hanggang dalawa linggo',\n",
       " 'limang araw nakalipas',\n",
       " 'anim araw nakalipas',\n",
       " 'pitong araw nakalipas',\n",
       " 'lima hanggang pito araw nakalipas',\n",
       " 'isang minuto',\n",
       " 'dalawang minuto',\n",
       " 'tatlong minuto',\n",
       " 'apat na minuto',\n",
       " 'limang minuto',\n",
       " 'isa hanggang lima minuto',\n",
       " 'limang araw',\n",
       " 'issang linggo',\n",
       " 'lima araw hanggang isa linggo',\n",
       " 'dalawa hanggang tatlo araw',\n",
       " 'dalawang beses',\n",
       " 'dalawa hanggang tatlo beses',\n",
       " 'isa hanggang tatlo araw',\n",
       " 'isang beses',\n",
       " 'isa hanggang tatlo beses',\n",
       " 'pito beses - pataas',\n",
       " 'walong beses',\n",
       " 'syam na beses',\n",
       " 'sampung beses',\n",
       " 'isang oras',\n",
       " 'dalawang oras',\n",
       " 'tatlong oras',\n",
       " 'apat na oras',\n",
       " 'limang oras',\n",
       " 'isa hanggang lima na oras',\n",
       " 'five minutes',\n",
       " 'sampung minuto',\n",
       " 'twenty five minutes',\n",
       " 'apat hanggang anim na araw',\n",
       " 'dalawa hanggang apat araw lumipas',\n",
       " 'thirty minutes',\n",
       " 'fourty minutes',\n",
       " 'fifty minutes',\n",
       " 'sixty minutes',\n",
       " 'one hour',\n",
       " 'thirthy one hanggang sixty na minuto',\n",
       " 'tatlumput isa hanggang isang oras',\n",
       " 'six minutes',\n",
       " 'seven minutes',\n",
       " 'eight minutes',\n",
       " 'nine minutes',\n",
       " 'ten minutes',\n",
       " 'anim hanggang sampu minuto',\n",
       " 'isa hanggang sampu minuto',\n",
       " 'one minute',\n",
       " 'two minutes',\n",
       " 'three minutes',\n",
       " 'four minutes',\n",
       " 'isa hanggang tatlumput na minuto',\n",
       " 'apat hanggang anim']"
      ]
     },
     "execution_count": 128,
     "metadata": {},
     "output_type": "execute_result"
    }
   ],
   "source": [
    "keys_list"
   ]
  },
  {
   "cell_type": "code",
   "execution_count": 100,
   "id": "d98581bc",
   "metadata": {},
   "outputs": [],
   "source": [
    "new_file_contents  = updated_contents + keys_list"
   ]
  },
  {
   "cell_type": "markdown",
   "id": "5d1afc21",
   "metadata": {},
   "source": [
    "# new_file_contents"
   ]
  },
  {
   "cell_type": "markdown",
   "id": "849a351c",
   "metadata": {},
   "source": [
    "### Create data for training"
   ]
  },
  {
   "cell_type": "code",
   "execution_count": 101,
   "id": "8d7d7062",
   "metadata": {},
   "outputs": [
    {
     "data": {
      "application/vnd.jupyter.widget-view+json": {
       "model_id": "d80765764686427b814616c57c113784",
       "version_major": 2,
       "version_minor": 0
      },
      "text/plain": [
       "Button(description='Start Recording', style=ButtonStyle())"
      ]
     },
     "metadata": {},
     "output_type": "display_data"
    },
    {
     "data": {
      "application/vnd.jupyter.widget-view+json": {
       "model_id": "82a49a072d074a25901a15a2077538c3",
       "version_major": 2,
       "version_minor": 0
      },
      "text/plain": [
       "Button(description='Stop Recording', style=ButtonStyle())"
      ]
     },
     "metadata": {},
     "output_type": "display_data"
    },
    {
     "data": {
      "application/vnd.jupyter.widget-view+json": {
       "model_id": "39507639b1fa48adbd89f6f452d867b9",
       "version_major": 2,
       "version_minor": 0
      },
      "text/plain": [
       "Button(description='Play Recording', style=ButtonStyle())"
      ]
     },
     "metadata": {},
     "output_type": "display_data"
    },
    {
     "data": {
      "application/vnd.jupyter.widget-view+json": {
       "model_id": "45cf26b1732a49dfa66c81210035ff6f",
       "version_major": 2,
       "version_minor": 0
      },
      "text/plain": [
       "Button(description='Save Recording', style=ButtonStyle())"
      ]
     },
     "metadata": {},
     "output_type": "display_data"
    }
   ],
   "source": [
    "display(start_button)\n",
    "display(stop_button)\n",
    "display(play_button)\n",
    "display(save_button)"
   ]
  },
  {
   "cell_type": "code",
   "execution_count": 33,
   "id": "5de7eb75",
   "metadata": {},
   "outputs": [],
   "source": [
    "# random_element = random.sample(new_file_contents, 2)\n",
    "# print(random_element)"
   ]
  },
  {
   "cell_type": "code",
   "execution_count": 102,
   "id": "1e0e270a",
   "metadata": {},
   "outputs": [],
   "source": [
    "# model = Wav2Vec2ForCTC.from_pretrained(\"facebook/wav2vec2-large-960h\")\n",
    "# processor = Wav2Vec2Processor.from_pretrained(\"facebook/wav2vec2-large-960h\")\n",
    "transcript = []\n",
    "target = []\n",
    "def show_transcription(model, processor, audio_file):\n",
    "    audio_input, sampling_rate = librosa.load(audio_file, sr=16000)\n",
    "    inputs = processor(audio_input, sampling_rate=sampling_rate, return_tensors=\"pt\", padding=True)\n",
    "    with torch.no_grad():\n",
    "        logits = model(inputs.input_values).logits\n",
    "\n",
    "    predicted_ids = torch.argmax(logits, dim=-1)\n",
    "    transcription = processor.batch_decode(predicted_ids)\n",
    "    return transcription\n"
   ]
  },
  {
   "cell_type": "code",
   "execution_count": 103,
   "id": "e63f68fe",
   "metadata": {},
   "outputs": [
    {
     "data": {
      "text/plain": [
       "['higit sa pito',\n",
       " 'wala pang tatlo beses',\n",
       " 'dalawa hanggang apat araw nakalipas',\n",
       " 'pagkaing dagat',\n",
       " 'dalawa',\n",
       " 'pangangati',\n",
       " 'malambot',\n",
       " 'tatlo  hanggang lima beses',\n",
       " 'paggamot ng root canal',\n",
       " 'usok/alikabok',\n",
       " 'brownish',\n",
       " 'pasta/spaghetti',\n",
       " 'apat hanggang anim beses',\n",
       " 'wala pang isa linggo',\n",
       " 'dalawa hanggang apat araw lumipas',\n",
       " 'thirty-eight point three to thirty-eight point six',\n",
       " 'dalawa kada linggo',\n",
       " 'near-sighted',\n",
       " 'pre existing condition',\n",
       " 'itim',\n",
       " 'loob',\n",
       " 'ubo',\n",
       " 'wala pang isa araw',\n",
       " 'isa kada linggo',\n",
       " 'tatlumput siyam',\n",
       " 'dalawa kada araw',\n",
       " 'medication',\n",
       " 'isa hanggang tatlo araw',\n",
       " 'aso',\n",
       " 'pusa',\n",
       " 'labing-isa hanggang dalawampu minuto',\n",
       " 'tatlo',\n",
       " 'pito hanggang sampu na araw',\n",
       " 'zero',\n",
       " 'medyo',\n",
       " 'higit isa linggong nakalipas',\n",
       " 'tuyo',\n",
       " 'neozep',\n",
       " 'walo hanggang sampu na araw',\n",
       " 'foreign object',\n",
       " 'dahil sa mga fluids',\n",
       " 'higit sa sampu minuto',\n",
       " 'avulsion',\n",
       " 'asul',\n",
       " 'puncture',\n",
       " 'exposure sa chlorine',\n",
       " 'kanina/ngayon lang',\n",
       " 'lima hanggang pito araw lumipas',\n",
       " 'tulog',\n",
       " 'lima',\n",
       " 'nadulas/nahulog',\n",
       " 'tinapay/pandesal',\n",
       " 'pula',\n",
       " 'syam',\n",
       " 'pito pataas',\n",
       " 'apathangganganim araw',\n",
       " 'may dugo',\n",
       " 'isa hanggang tatlo',\n",
       " 'pisikal na ehersisyo',\n",
       " 'wala pa isang linggo',\n",
       " 'higit sa lima beses',\n",
       " 'hindi kailanman',\n",
       " 'buwan',\n",
       " 'lima hanggang pito na araw lumipas',\n",
       " 'walo pataas',\n",
       " 'ilang araw lang',\n",
       " 'isa',\n",
       " 'higit sa isa buwan',\n",
       " 'higit sa dalawampu minuto',\n",
       " 'lima hanggang pito na araw',\n",
       " 'maputla',\n",
       " 'apat to pito',\n",
       " 'pareho',\n",
       " 'aspirin',\n",
       " 'pamamantal',\n",
       " 'pito',\n",
       " 'wala pang isa buwan',\n",
       " 'pag-bunot ng ngipin',\n",
       " 'wala pa isang minuto',\n",
       " 'mga oras lang',\n",
       " 'dilaw',\n",
       " 'di ko alam',\n",
       " 'bioflu',\n",
       " 'skin irritants',\n",
       " 'hindi',\n",
       " 'lima',\n",
       " 'band-aid',\n",
       " 'food intake',\n",
       " 'pito',\n",
       " 'sunburn',\n",
       " 'isa hanggang dalawa linggo',\n",
       " 'kulay-rosas/pula',\n",
       " 'gulay',\n",
       " 'ibang dahilan',\n",
       " 'matingkad na pula',\n",
       " 'lima hanggang pito araw nakalipas',\n",
       " 'labis na ehersisyo',\n",
       " 'higit sa lima oras',\n",
       " 'thirty-seven point nine to thirty-eight point two',\n",
       " 'ngayong araw',\n",
       " 'mani',\n",
       " 'higit sa tatlumput siyam',\n",
       " 'di higit sa isang araw',\n",
       " 'matubig',\n",
       " 'pagbahing',\n",
       " 'wala akong maalala',\n",
       " 'puti',\n",
       " 'antibiotics',\n",
       " 'wala pa isang buwan',\n",
       " 'kayumanggi/dark red',\n",
       " 'isa',\n",
       " 'merong plema',\n",
       " 'isa o higit pang buwan',\n",
       " 'nalimutan ko',\n",
       " 'pahinga',\n",
       " 'mga allergies',\n",
       " 'laceration',\n",
       " 'dahil sa pagkain',\n",
       " 'gatas',\n",
       " 'wala naman pong iba',\n",
       " 'anim',\n",
       " 'isa hanggang lima minuto',\n",
       " 'isa hanggang sampu minuto',\n",
       " 'oras',\n",
       " 'human fault',\n",
       " 'kaliwa at kanan',\n",
       " 'no choices (free response)',\n",
       " 'tubig',\n",
       " 'yellowish',\n",
       " 'lima araw hanggang isa linggo',\n",
       " 'dalawa hanggang tatlo araw',\n",
       " 'hindi ko maalala o alam',\n",
       " 'wala pa isang oras',\n",
       " 'itlog',\n",
       " 'mahigit isang buwan',\n",
       " 'thirty-seven point five to thirty-seven point eight',\n",
       " 'linggong nakalipas',\n",
       " 'apat',\n",
       " 'oo',\n",
       " 'kaagad-agad',\n",
       " 'dysmenorrhea',\n",
       " 'dalawa hanggang tatlo beses',\n",
       " 'mga segundo lang',\n",
       " 'sa panig ng ina',\n",
       " 'dalawa',\n",
       " 'pasta',\n",
       " 'hindi ko nabilang',\n",
       " 'nakaraang linggo',\n",
       " 'oras na nalipas',\n",
       " 'trauma/injury',\n",
       " 'mga minuto lang',\n",
       " 'dehydration',\n",
       " 'tatlo',\n",
       " 'dahil sa trauma',\n",
       " 'isa kada araw',\n",
       " 'isa hanggang tatlo na araw',\n",
       " 'lagpas sa isang linggo',\n",
       " 'kulay rosas',\n",
       " 'kulay abo',\n",
       " 'ilang oras lang',\n",
       " 'manok, baboy o baka',\n",
       " 'nakaraaang buwan',\n",
       " 'dibdib',\n",
       " 'kamay/braso',\n",
       " 'wala',\n",
       " 'mga ilang araw',\n",
       " 'far-sighted',\n",
       " 'meron pa po pero okay naman po ako',\n",
       " 'nakalmot ang mata',\n",
       " 'isa hanggang tatlo beses',\n",
       " 'nakaraang buwan',\n",
       " 'mga painkiller na gamot',\n",
       " 'gamot isa',\n",
       " 'paa',\n",
       " 'kaliwa',\n",
       " 'higit sa sampu araw',\n",
       " 'tatlumput siyam',\n",
       " 'hindi ko maalala',\n",
       " 'higit sa anim na beses',\n",
       " 'higit sa dalawa linggo',\n",
       " 'kape/tsaa',\n",
       " 'anim',\n",
       " 'baka',\n",
       " 'higit sa dalawamput apat oras',\n",
       " 'sa harapan',\n",
       " 'nakaraang taon',\n",
       " 'agad-agad',\n",
       " 'linggo',\n",
       " 'pagduduwal at pagsusuka',\n",
       " 'higit sa isa linggo',\n",
       " 'ilang minuto lang',\n",
       " 'apat hanggang anim',\n",
       " 'buo',\n",
       " 'bloody',\n",
       " 'isa hanggang lima na oras',\n",
       " 'hindi sigurado',\n",
       " 'pamumula',\n",
       " 'iba pa',\n",
       " 'mga prutas',\n",
       " 'higit sa isang linggo',\n",
       " 'apat',\n",
       " 'wala pa isang araw',\n",
       " 'atis',\n",
       " 'tatlo kada araw',\n",
       " 'mukha',\n",
       " 'isa hanggang tatlumput na minuto',\n",
       " 'hindi ko alam',\n",
       " 'nabangga ng sasakyan',\n",
       " 'apat hanggang anim na araw',\n",
       " 'dahon ng sambong',\n",
       " 'isa to tatlo',\n",
       " 'dahil sa gamot',\n",
       " 'hirap sa paghinga',\n",
       " 'higit dalawa kada linggo',\n",
       " 'matulis',\n",
       " 'pre-existing na kondisyon',\n",
       " 'abrasion',\n",
       " 'kulay kahel',\n",
       " 'dalawa hanggang apat na araw lumipas',\n",
       " 'isahanggangtatlo araw',\n",
       " 'sabaw',\n",
       " 'dalawa hanggang apat na araw',\n",
       " 'thirthy one hanggang sixty na minuto',\n",
       " 'iba pang interbensyon',\n",
       " 'karahasan',\n",
       " 'taong nalipas',\n",
       " 'ibang kulay',\n",
       " 'ice cream/yogurt',\n",
       " 'lagnat',\n",
       " 'pamahid',\n",
       " 'kape',\n",
       " 'labas',\n",
       " 'softdrinks',\n",
       " 'wala pang isa minuto',\n",
       " 'walo',\n",
       " 'berde',\n",
       " 'kalamansi',\n",
       " 'sa panig ng ama',\n",
       " 'buwan na nakalipas',\n",
       " 'wala pang isang minuto',\n",
       " 'mabilog',\n",
       " 'sa kanan',\n",
       " 'lima araw hanggangisa linggo',\n",
       " 'hight sa sampu araw',\n",
       " 'mas mababa',\n",
       " 'blister forming',\n",
       " 'sampu',\n",
       " 'higit pa o katumbas doon',\n",
       " 'mahigit pito araw',\n",
       " 'higit dalawang araw',\n",
       " 'direct sunlight',\n",
       " 'sa likuran',\n",
       " 'kanan',\n",
       " 'kayumanggi',\n",
       " 'pagod',\n",
       " 'minutong nakalipas',\n",
       " 'isa linggong nakalipas',\n",
       " 'minsan',\n",
       " 'anim hanggang sampu minuto',\n",
       " 'oras na nakalipas',\n",
       " 'apatnapu',\n",
       " 'orange',\n",
       " 'pamamaga',\n",
       " 'maitim',\n",
       " 'tumutulong sipon',\n",
       " 'thirty-eight point seven to thirty-nine',\n",
       " 'kulay-ube',\n",
       " 'mga ilang oras lang',\n",
       " 'lumayo sa mga allergens',\n",
       " 'sakit sa ulo',\n",
       " 'anti histamine',\n",
       " 'palagi',\n",
       " 'meron',\n",
       " 'kahapon',\n",
       " 'sa kaliwa',\n",
       " 'ngayon / kanina lang']"
      ]
     },
     "execution_count": 103,
     "metadata": {},
     "output_type": "execute_result"
    }
   ],
   "source": [
    "updated_contents"
   ]
  },
  {
   "cell_type": "code",
   "execution_count": 129,
   "id": "bc61676d",
   "metadata": {},
   "outputs": [
    {
     "data": {
      "text/plain": [
       "['higit sa pito',\n",
       " 'wala pang tatlo beses',\n",
       " 'dalawa hanggang apat araw nakalipas',\n",
       " 'pagkaing dagat',\n",
       " 'dalawa',\n",
       " 'pangangati',\n",
       " 'malambot',\n",
       " 'tatlo  hanggang lima beses',\n",
       " 'paggamot ng root canal',\n",
       " 'usok/alikabok']"
      ]
     },
     "execution_count": 129,
     "metadata": {},
     "output_type": "execute_result"
    }
   ],
   "source": [
    "updated_contents[:10]"
   ]
  },
  {
   "cell_type": "code",
   "execution_count": 37,
   "id": "744060b3",
   "metadata": {},
   "outputs": [],
   "source": [
    "# for item1, item2 in zip(transcript, updated_contents):\n",
    "#     print(item1, item2)"
   ]
  },
  {
   "cell_type": "markdown",
   "id": "f1741ee8",
   "metadata": {},
   "source": [
    "### Use the samples"
   ]
  },
  {
   "cell_type": "code",
   "execution_count": 105,
   "id": "e8c2529b",
   "metadata": {},
   "outputs": [],
   "source": [
    "# uniqueChoices = list(set(dictionaryTagalogRanges.values()))"
   ]
  },
  {
   "cell_type": "code",
   "execution_count": 130,
   "id": "f085dcc3",
   "metadata": {},
   "outputs": [
    {
     "data": {
      "text/plain": [
       "['isa hanggang tatlo beses',\n",
       " 'apat hanggang anim beses',\n",
       " 'pito beses - pataas',\n",
       " 'Hindi matandaan']"
      ]
     },
     "execution_count": 130,
     "metadata": {},
     "output_type": "execute_result"
    }
   ],
   "source": [
    "#   process the choices (numerical values to text speech)\n",
    "choices = [\"1 - 3 beses\",  \"4 - 6 beses\", \"7 beses - pataas\", \"Hindi matandaan\"]\n",
    "# maybe no longer needed\n",
    "copy_choices = choices[:]\n",
    "processed_choices = process_list(copy_choices)\n",
    "updated_choices = [replace_numbers(sentence, numericals) for sentence in processed_choices]\n",
    "candidatesChoices = []\n",
    "updated_choices"
   ]
  },
  {
   "cell_type": "code",
   "execution_count": 131,
   "id": "e596648d",
   "metadata": {},
   "outputs": [
    {
     "name": "stdout",
     "output_type": "stream",
     "text": [
      "['1 - 3 beses', '4 - 6 beses', '7 beses - pataas', 'Hindi matandaan']\n",
      "['isa hanggang tatlo beses', 'apat hanggang anim beses', 'pito beses - pataas', 'Hindi matandaan']\n"
     ]
    }
   ],
   "source": [
    "print(copy_choices)\n",
    "print(updated_choices)"
   ]
  },
  {
   "cell_type": "markdown",
   "id": "4a32bbee",
   "metadata": {},
   "source": [
    "### Dealing with the ranges and numbers"
   ]
  },
  {
   "cell_type": "code",
   "execution_count": null,
   "id": "eff90d8b",
   "metadata": {},
   "outputs": [],
   "source": []
  },
  {
   "cell_type": "code",
   "execution_count": 135,
   "id": "fec8aa34",
   "metadata": {},
   "outputs": [],
   "source": [
    "# look for choices that can have multiple answers / multiple keys \n",
    "# match the transcript with updated_choices, if the transcript is 80 score then pass the following\n",
    "# match the choices and dictionaryTagalogRanges values, get the list of key, and perform speelling sim.\n",
    "# below than 20 score, return invalid\n",
    "foundRanges = []\n",
    "for item in choices:\n",
    "    foundRanges.append(value_to_keys[item])\n",
    "\n",
    "flattened_list = [item for sublist in foundRanges for item in sublist]\n",
    "for item in updated_choices:\n",
    "    if item not in flattened_list:\n",
    "        flattened_list.append(item)"
   ]
  },
  {
   "cell_type": "code",
   "execution_count": 136,
   "id": "dc931075",
   "metadata": {},
   "outputs": [
    {
     "data": {
      "text/plain": [
       "['tatlong beses',\n",
       " 'dalawang beses',\n",
       " 'isang beses',\n",
       " 'isa hanggang tatlo beses',\n",
       " 'anim na beses',\n",
       " 'apat hanggang anim beses',\n",
       " 'pito beses - pataas',\n",
       " 'walong beses',\n",
       " 'syam na beses',\n",
       " 'sampung beses',\n",
       " 'Hindi matandaan']"
      ]
     },
     "execution_count": 136,
     "metadata": {},
     "output_type": "execute_result"
    }
   ],
   "source": [
    "flattened_list"
   ]
  },
  {
   "cell_type": "code",
   "execution_count": 146,
   "id": "739d4dba",
   "metadata": {},
   "outputs": [
    {
     "name": "stdout",
     "output_type": "stream",
     "text": [
      "None\n"
     ]
    }
   ],
   "source": [
    "closestChoice =  'Hindi matandaan'\n",
    "try:\n",
    "    value = dictionaryTagalogRanges[closestChoice]\n",
    "except KeyError:\n",
    "    value = None  # or some default value\n",
    "# return value\n",
    "print(value)"
   ]
  },
  {
   "cell_type": "code",
   "execution_count": 141,
   "id": "9a770956",
   "metadata": {},
   "outputs": [
    {
     "name": "stdout",
     "output_type": "stream",
     "text": [
      "276\n",
      "276\n"
     ]
    }
   ],
   "source": [
    "print(len(file_contents))\n",
    "print(len(updated_contents))"
   ]
  },
  {
   "cell_type": "code",
   "execution_count": 150,
   "id": "5af123a7",
   "metadata": {},
   "outputs": [
    {
     "data": {
      "text/plain": [
       "'Hindi matandaan'"
      ]
     },
     "execution_count": 150,
     "metadata": {},
     "output_type": "execute_result"
    }
   ],
   "source": [
    "closestChoice"
   ]
  },
  {
   "cell_type": "code",
   "execution_count": 151,
   "id": "e4edd97a",
   "metadata": {},
   "outputs": [
    {
     "data": {
      "text/plain": [
       "['higit sa 7',\n",
       " 'wala pang 3 beses',\n",
       " '2 - 4 araw nakalipas',\n",
       " 'pagkaing dagat',\n",
       " 'dalawa',\n",
       " 'pangangati',\n",
       " 'malambot',\n",
       " '3  - 5 beses',\n",
       " 'paggamot ng root canal',\n",
       " 'usok/alikabok',\n",
       " 'brownish',\n",
       " 'pasta/spaghetti',\n",
       " '4 - 6 beses',\n",
       " 'wala pang 1 linggo',\n",
       " '2 - 4 araw lumipas',\n",
       " 'thirty-eight point three to thirty-eight point six',\n",
       " 'dalawa kada linggo',\n",
       " 'near-sighted',\n",
       " 'pre existing condition',\n",
       " 'itim',\n",
       " 'loob',\n",
       " 'ubo',\n",
       " 'wala pang 1 araw',\n",
       " 'isa kada linggo',\n",
       " '38',\n",
       " 'dalawa kada araw',\n",
       " 'medication',\n",
       " '1 - 3 araw',\n",
       " 'aso',\n",
       " 'pusa',\n",
       " '11 hanggang 20 minuto',\n",
       " '3',\n",
       " '7 - 10 na araw',\n",
       " '0',\n",
       " 'medyo',\n",
       " 'higit 1 linggong nakalipas',\n",
       " 'tuyo',\n",
       " 'neozep',\n",
       " '8 - 10 na araw',\n",
       " 'foreign object',\n",
       " 'dahil sa mga fluids',\n",
       " 'higit sa 10 minuto',\n",
       " 'avulsion',\n",
       " 'asul',\n",
       " 'puncture',\n",
       " 'exposure sa chlorine',\n",
       " 'kanina/ngayon lang',\n",
       " '5 - 7 araw lumipas',\n",
       " 'tulog',\n",
       " 'lima',\n",
       " 'nadulas/nahulog',\n",
       " 'tinapay/pandesal',\n",
       " 'pula',\n",
       " '9',\n",
       " '7 pataas',\n",
       " '4-6 araw',\n",
       " 'may dugo',\n",
       " '1 - 3',\n",
       " 'pisikal na ehersisyo',\n",
       " 'wala pa isang linggo',\n",
       " 'higit sa 5 beses',\n",
       " 'hindi kailanman',\n",
       " 'buwan',\n",
       " '5 - 7 na araw lumipas',\n",
       " '8 pataas',\n",
       " 'ilang araw lang',\n",
       " '1',\n",
       " 'higit sa 1 buwan',\n",
       " 'higit sa 20 minuto',\n",
       " '5 - 7 na araw',\n",
       " 'maputla',\n",
       " '4 to 7',\n",
       " 'pareho',\n",
       " 'aspirin',\n",
       " 'pamamantal',\n",
       " 'pito',\n",
       " 'wala pang 1 buwan',\n",
       " 'pag-bunot ng ngipin',\n",
       " 'wala pa isang minuto',\n",
       " 'mga oras lang',\n",
       " 'dilaw',\n",
       " 'di ko alam',\n",
       " 'bioflu',\n",
       " 'skin irritants',\n",
       " 'hindi',\n",
       " '5',\n",
       " 'band-aid',\n",
       " 'food intake',\n",
       " '7',\n",
       " 'sunburn',\n",
       " '1 - 2 linggo',\n",
       " 'kulay-rosas/pula',\n",
       " 'gulay',\n",
       " 'ibang dahilan',\n",
       " 'matingkad na pula',\n",
       " '5 - 7 araw nakalipas',\n",
       " 'labis na ehersisyo',\n",
       " 'higit sa 5 oras',\n",
       " 'thirty-seven point nine to thirty-eight point two',\n",
       " 'ngayong araw',\n",
       " 'mani',\n",
       " 'higit sa 39',\n",
       " 'di higit sa isang araw',\n",
       " 'matubig',\n",
       " 'pagbahing',\n",
       " 'wala akong maalala',\n",
       " 'puti',\n",
       " 'antibiotics',\n",
       " 'wala pa isang buwan',\n",
       " 'kayumanggi/dark red',\n",
       " 'isa',\n",
       " 'merong plema',\n",
       " '1 o higit pang buwan',\n",
       " 'nalimutan ko',\n",
       " 'pahinga',\n",
       " 'mga allergies',\n",
       " 'laceration',\n",
       " 'dahil sa pagkain',\n",
       " 'gatas',\n",
       " 'wala naman pong iba',\n",
       " '6',\n",
       " '1 - 5 minuto',\n",
       " '1 hanggang 10 minuto',\n",
       " 'oras',\n",
       " 'human fault',\n",
       " 'kaliwa at kanan',\n",
       " 'no choices (free response)',\n",
       " 'tubig',\n",
       " 'yellowish',\n",
       " '5 araw - 1 linggo',\n",
       " '2 - 3 araw',\n",
       " 'hindi ko maalala o alam',\n",
       " 'wala pa isang oras',\n",
       " 'itlog',\n",
       " 'mahigit isang buwan',\n",
       " 'thirty-seven point five to thirty-seven point eight',\n",
       " 'linggong nakalipas',\n",
       " 'apat',\n",
       " 'oo',\n",
       " 'kaagad-agad',\n",
       " 'dysmenorrhea',\n",
       " '2 - 3 beses',\n",
       " 'mga segundo lang',\n",
       " 'sa panig ng ina',\n",
       " '2',\n",
       " 'pasta',\n",
       " 'hindi ko nabilang',\n",
       " 'nakaraang linggo',\n",
       " 'oras na nalipas',\n",
       " 'trauma/injury',\n",
       " 'mga minuto lang',\n",
       " 'dehydration',\n",
       " 'tatlo',\n",
       " 'dahil sa trauma',\n",
       " 'isa kada araw',\n",
       " '1 - 3 na araw',\n",
       " 'lagpas sa isang linggo',\n",
       " 'kulay rosas',\n",
       " 'kulay abo',\n",
       " 'ilang oras lang',\n",
       " 'manok, baboy o baka',\n",
       " 'nakaraaang buwan',\n",
       " 'dibdib',\n",
       " 'kamay/braso',\n",
       " 'wala',\n",
       " 'mga ilang araw',\n",
       " 'far-sighted',\n",
       " 'meron pa po pero okay naman po ako',\n",
       " 'nakalmot ang mata',\n",
       " '1 - 3 beses',\n",
       " 'nakaraang buwan',\n",
       " 'mga painkiller na gamot',\n",
       " 'gamot 1',\n",
       " 'paa',\n",
       " 'kaliwa',\n",
       " 'higit sa 10 araw',\n",
       " '39',\n",
       " 'hindi ko maalala',\n",
       " 'higit sa 6 na beses',\n",
       " 'higit sa 2 linggo',\n",
       " 'kape/tsaa',\n",
       " 'anim',\n",
       " 'baka',\n",
       " 'higit sa 24 oras',\n",
       " 'sa harapan',\n",
       " 'nakaraang taon',\n",
       " 'agad-agad',\n",
       " 'linggo',\n",
       " 'pagduduwal at pagsusuka',\n",
       " 'higit sa 1 linggo',\n",
       " 'ilang minuto lang',\n",
       " '4 - 6',\n",
       " 'buo',\n",
       " 'bloody',\n",
       " '1 - 5 na oras',\n",
       " 'hindi sigurado',\n",
       " 'pamumula',\n",
       " 'iba pa',\n",
       " 'mga prutas',\n",
       " 'higit sa isang linggo',\n",
       " '4',\n",
       " 'wala pa isang araw',\n",
       " 'atis',\n",
       " 'tatlo kada araw',\n",
       " 'mukha',\n",
       " '1 - 30 na minuto',\n",
       " 'hindi ko alam',\n",
       " 'nabangga ng sasakyan',\n",
       " '4 - 6 na araw',\n",
       " 'dahon ng sambong',\n",
       " '1 to 3',\n",
       " 'dahil sa gamot',\n",
       " 'hirap sa paghinga',\n",
       " 'higit dalawa kada linggo',\n",
       " 'matulis',\n",
       " 'pre-existing na kondisyon',\n",
       " 'abrasion',\n",
       " 'kulay kahel',\n",
       " '2 - 4 na araw lumipas',\n",
       " '1-3 araw',\n",
       " 'sabaw',\n",
       " '2 - 4 na araw',\n",
       " '31 - 60 na minuto',\n",
       " 'iba pang interbensyon',\n",
       " 'karahasan',\n",
       " 'taong nalipas',\n",
       " 'ibang kulay',\n",
       " 'ice cream/yogurt',\n",
       " 'lagnat',\n",
       " 'pamahid',\n",
       " 'kape',\n",
       " 'labas',\n",
       " 'softdrinks',\n",
       " 'wala pang 1 minuto',\n",
       " '8',\n",
       " 'berde',\n",
       " 'kalamansi',\n",
       " 'sa panig ng ama',\n",
       " 'buwan na nakalipas',\n",
       " 'wala pang isang minuto',\n",
       " 'mabilog',\n",
       " 'sa kanan',\n",
       " '5 araw -1 linggo',\n",
       " 'hight sa 10 araw',\n",
       " 'mas mababa',\n",
       " 'blister forming',\n",
       " '10',\n",
       " 'higit pa o katumbas doon',\n",
       " 'mahigit 7 araw',\n",
       " 'higit dalawang araw',\n",
       " 'direct sunlight',\n",
       " 'sa likuran',\n",
       " 'kanan',\n",
       " 'kayumanggi',\n",
       " 'pagod',\n",
       " 'minutong nakalipas',\n",
       " '1 linggong nakalipas',\n",
       " 'minsan',\n",
       " '6 - 10 minuto',\n",
       " 'oras na nakalipas',\n",
       " '40',\n",
       " 'orange',\n",
       " 'pamamaga',\n",
       " 'maitim',\n",
       " 'tumutulong sipon',\n",
       " 'thirty-eight point seven to thirty-nine',\n",
       " 'kulay-ube',\n",
       " 'mga ilang oras lang',\n",
       " 'lumayo sa mga allergens',\n",
       " 'sakit sa ulo',\n",
       " 'anti histamine',\n",
       " 'palagi',\n",
       " 'meron',\n",
       " 'kahapon',\n",
       " 'sa kaliwa',\n",
       " 'ngayon / kanina lang']"
      ]
     },
     "execution_count": 151,
     "metadata": {},
     "output_type": "execute_result"
    }
   ],
   "source": [
    "file_contents"
   ]
  },
  {
   "cell_type": "code",
   "execution_count": 42,
   "id": "7ee66b9e",
   "metadata": {},
   "outputs": [],
   "source": [
    "def map_transcripts(transcripts, labels):\n",
    "    mapped_results = []\n",
    "    for trans in transcripts:\n",
    "        trans_str = ' '.join(trans)\n",
    "        trans_length = len(trans_str)\n",
    "        \n",
    "        filtered_labels = [label for label in labels if abs(len(label) - trans_length) <= 5]\n",
    "        \n",
    "        if filtered_labels:\n",
    "            match, score = process.extractOne(trans_str, filtered_labels)\n",
    "            result = process.extract(trans_str, filtered_labels)\n",
    "            print(result)\n",
    "            mapped_results.append((trans_str, match, score))\n",
    "        else:\n",
    "            mapped_results.append((trans_str, None, 0))\n",
    "            \n",
    "    return mapped_results\n",
    "\n",
    "def map_transcripts2(transcripts, choices, ranges):\n",
    "#   process the choices (numerical values to text speech)\n",
    "#   look for choices that can have multiple answers / multiple keys \n",
    "#        - time (keys) and temperature (keys) figures that can preferred to be spoken in English (values)\n",
    "#             - dictionaryTagalogRanges\n",
    "#        - ranges with multiple values\n",
    "#             - dictionaryTagalogRanges\n",
    "#        - map the result to expected outout, and check any exact match\n",
    "#             - show example\n",
    "#               raw transcrtipion -> dictkeylist (spelling correction )-> dictVal -> dictVal & choices -> if true return choice else\n",
    "#               choices (spelling correction) -> return closest choice\n",
    "#   find the closest spelling of choices\n",
    "    mapped_results = []\n",
    "    for trans in transcripts:\n",
    "        trans_str = ' '.join(trans)\n",
    "        trans_length = len(trans_str)\n",
    "        \n",
    "        filtered_labels = [label for label in labels if abs(len(label) - trans_length) <= 5]\n",
    "        \n",
    "        if filtered_labels:\n",
    "            match, score = process.extractOne(trans_str, filtered_labels)\n",
    "            result = process.extract(trans_str, filtered_labels)\n",
    "            print(result)\n",
    "            mapped_results.append((trans_str, match, score))\n",
    "        else:\n",
    "            mapped_results.append((trans_str, None, 0))\n",
    "            \n",
    "    return mapped_results\n",
    "\n",
    "# Calculate accuracy and print results\n",
    "def print_result(mapped_transcripts):\n",
    "    for original, mapped, score in mapped_transcripts:\n",
    "        print(f\"Original: {original} -> Mapped: {mapped} (Score: {score})\")\n"
   ]
  },
  {
   "cell_type": "markdown",
   "id": "e8580dc5",
   "metadata": {},
   "source": [
    "### Test my speech transcription"
   ]
  },
  {
   "cell_type": "code",
   "execution_count": 44,
   "id": "17f7dff4",
   "metadata": {},
   "outputs": [],
   "source": [
    "# mapped_transcripts = map_transcripts(test_transcript, updated_contents)\n",
    "# print_result(mapped_transcripts)"
   ]
  },
  {
   "cell_type": "markdown",
   "id": "1990298f",
   "metadata": {},
   "source": [
    "### Test API"
   ]
  },
  {
   "cell_type": "markdown",
   "id": "e5570b94",
   "metadata": {},
   "source": [
    "#### local API"
   ]
  },
  {
   "cell_type": "markdown",
   "id": "79de234a",
   "metadata": {},
   "source": [
    "get the speech input"
   ]
  },
  {
   "cell_type": "code",
   "execution_count": 42,
   "id": "d8d2a369",
   "metadata": {},
   "outputs": [
    {
     "data": {
      "text/plain": [
       "['D:\\\\Coding Projects\\\\OJT2\\\\SpeechRecog+SpellingCorrect\\\\speech_input_audio\\\\res_0001.wav',\n",
       " 'D:\\\\Coding Projects\\\\OJT2\\\\SpeechRecog+SpellingCorrect\\\\speech_input_audio\\\\res_0002.wav',\n",
       " 'D:\\\\Coding Projects\\\\OJT2\\\\SpeechRecog+SpellingCorrect\\\\speech_input_audio\\\\res_0003.wav',\n",
       " 'D:\\\\Coding Projects\\\\OJT2\\\\SpeechRecog+SpellingCorrect\\\\speech_input_audio\\\\res_0004.wav',\n",
       " 'D:\\\\Coding Projects\\\\OJT2\\\\SpeechRecog+SpellingCorrect\\\\speech_input_audio\\\\res_0005.wav',\n",
       " 'D:\\\\Coding Projects\\\\OJT2\\\\SpeechRecog+SpellingCorrect\\\\speech_input_audio\\\\res_0006.wav',\n",
       " 'D:\\\\Coding Projects\\\\OJT2\\\\SpeechRecog+SpellingCorrect\\\\speech_input_audio\\\\res_0007.wav',\n",
       " 'D:\\\\Coding Projects\\\\OJT2\\\\SpeechRecog+SpellingCorrect\\\\speech_input_audio\\\\res_0008.wav',\n",
       " 'D:\\\\Coding Projects\\\\OJT2\\\\SpeechRecog+SpellingCorrect\\\\speech_input_audio\\\\res_0009.wav',\n",
       " 'D:\\\\Coding Projects\\\\OJT2\\\\SpeechRecog+SpellingCorrect\\\\speech_input_audio\\\\res_0010.wav']"
      ]
     },
     "execution_count": 42,
     "metadata": {},
     "output_type": "execute_result"
    }
   ],
   "source": [
    "audio_dir = new_dir_audio\n",
    "num_audio_files = len([name for name in os.listdir(audio_dir) if os.path.isfile(os.path.join(audio_dir, name))])\n",
    "\n",
    "audio_files = []\n",
    "for i in range(num_audio_files):\n",
    "    num_str = f\"{i+1:04}\"\n",
    "    audio_path = os.path.join(audio_dir, f'res_{num_str}.wav')\n",
    "    audio_files.append(audio_path)\n",
    "    \n",
    "audio_files"
   ]
  },
  {
   "cell_type": "markdown",
   "id": "12349e23",
   "metadata": {},
   "source": [
    "Transcribe. This takes longer time to complete"
   ]
  },
  {
   "cell_type": "code",
   "execution_count": 43,
   "id": "05f9c888",
   "metadata": {},
   "outputs": [
    {
     "name": "stdout",
     "output_type": "stream",
     "text": [
      "D:\\Coding Projects\\OJT2\\SpeechRecog+SpellingCorrect\\speech_input_audio\\res_0001.wav\n",
      "D:\\Coding Projects\\OJT2\\SpeechRecog+SpellingCorrect\\speech_input_audio\\res_0002.wav\n",
      "D:\\Coding Projects\\OJT2\\SpeechRecog+SpellingCorrect\\speech_input_audio\\res_0003.wav\n",
      "D:\\Coding Projects\\OJT2\\SpeechRecog+SpellingCorrect\\speech_input_audio\\res_0004.wav\n",
      "D:\\Coding Projects\\OJT2\\SpeechRecog+SpellingCorrect\\speech_input_audio\\res_0005.wav\n",
      "D:\\Coding Projects\\OJT2\\SpeechRecog+SpellingCorrect\\speech_input_audio\\res_0006.wav\n",
      "D:\\Coding Projects\\OJT2\\SpeechRecog+SpellingCorrect\\speech_input_audio\\res_0007.wav\n",
      "D:\\Coding Projects\\OJT2\\SpeechRecog+SpellingCorrect\\speech_input_audio\\res_0008.wav\n",
      "D:\\Coding Projects\\OJT2\\SpeechRecog+SpellingCorrect\\speech_input_audio\\res_0009.wav\n",
      "D:\\Coding Projects\\OJT2\\SpeechRecog+SpellingCorrect\\speech_input_audio\\res_0010.wav\n"
     ]
    }
   ],
   "source": [
    "transcript = []\n",
    "for audio_file in zip(audio_files):\n",
    "    print(audio_file[0])\n",
    "    output = show_transcription(model, processor, audio_file[0])\n",
    "    transcript.append(output)"
   ]
  },
  {
   "cell_type": "markdown",
   "id": "9fe7b1a2",
   "metadata": {},
   "source": [
    "#### Results"
   ]
  },
  {
   "cell_type": "code",
   "execution_count": 44,
   "id": "c1ef9dbd",
   "metadata": {},
   "outputs": [
    {
     "name": "stdout",
     "output_type": "stream",
     "text": [
      "[['LIMANA ARRO'], ['TWENTY FIVE MINUTES'], ['ISA HANGARD THAT LONG PUT MINU DO'], ['ISANLINGUM'], ['SIXTEEN MINUTES'], ['ANTIBIOTICS'], ['APAT HANGANG ALIM NA ARO'], ['LIMA HAMDAM  PITO NAADO'], ['CULAY ROSAS'], ['NADULAS OR NAHOLU']]\n"
     ]
    }
   ],
   "source": [
    "print(transcript)"
   ]
  },
  {
   "cell_type": "code",
   "execution_count": 45,
   "id": "fd43038d",
   "metadata": {},
   "outputs": [
    {
     "name": "stdout",
     "output_type": "stream",
     "text": [
      "[('lima na araw', 78), ('limang araw', 73), ('limang oras', 64), ('nalimutan ko', 61), ('anim na araw', 61)]\n",
      "[('twenty five minutes', 100), ('twenty minutes', 95), ('tweleve minutes', 76), ('fifteen minutes', 72), ('nineteen minutes', 70)]\n",
      "[('labing-isa hanggang dalawampu minuto', 58), ('dalawa hanggang apat na araw', 49), ('higit isa linggong nakalipas', 47), ('dalawa hanggang apat na araw lumipas', 46), ('dalawa hanggang apat araw lumipas', 45)]\n",
      "[('isang linggo', 73), ('issang linggo', 70), ('isang minuto', 64), ('linggo', 60), ('isa kada linggo', 56)]\n",
      "[('sixteen minutes', 100), ('fifteen minutes', 87), ('sixty minutes', 86), ('seven minutes', 86), ('six minutes', 85)]\n",
      "[('antibiotics', 100), ('anti histamine', 56), ('matubig', 51), ('gamot isa', 50), ('maitim', 47)]\n",
      "[('apat hanggang anim na araw', 88), ('isa hanggang lima na oras', 73), ('isa hanggang tatlo na araw', 72), ('apat hanggang anim beses', 71), ('dalawa hanggang apat na araw', 69)]\n",
      "[('lima - pito na araw', 73), ('lima - pito araw nakalipas', 66), ('lima - pito na araw lumipas', 65), ('pito na araw lumipas', 64), ('lima - pito araw lumipas', 61)]\n",
      "[('kulay rosas', 91), ('kulay-rosas/pula', 74), ('kulay abo', 60), ('kamay/braso', 55), ('kulay kahel', 55)]\n",
      "[('nadulas/nahulog', 77), ('oras na nalipas', 53), ('apat na oras', 52), ('taong nalipas', 50), ('oras na nakalipas', 50)]\n",
      "Original: LIMANA ARRO -> Mapped: lima na araw (Score: 78)\n",
      "Original: TWENTY FIVE MINUTES -> Mapped: twenty five minutes (Score: 100)\n",
      "Original: ISA HANGARD THAT LONG PUT MINU DO -> Mapped: labing-isa hanggang dalawampu minuto (Score: 58)\n",
      "Original: ISANLINGUM -> Mapped: isang linggo (Score: 73)\n",
      "Original: SIXTEEN MINUTES -> Mapped: sixteen minutes (Score: 100)\n",
      "Original: ANTIBIOTICS -> Mapped: antibiotics (Score: 100)\n",
      "Original: APAT HANGANG ALIM NA ARO -> Mapped: apat hanggang anim na araw (Score: 88)\n",
      "Original: LIMA HAMDAM  PITO NAADO -> Mapped: lima - pito na araw (Score: 73)\n",
      "Original: CULAY ROSAS -> Mapped: kulay rosas (Score: 91)\n",
      "Original: NADULAS OR NAHOLU -> Mapped: nadulas/nahulog (Score: 77)\n"
     ]
    }
   ],
   "source": [
    "mapped_transcripts = map_transcripts(transcript, new_file_contents)\n",
    "print_result(mapped_transcripts)"
   ]
  },
  {
   "cell_type": "code",
   "execution_count": 46,
   "id": "9b6788e4",
   "metadata": {},
   "outputs": [],
   "source": [
    "max_cap = len(file_contents)"
   ]
  },
  {
   "cell_type": "code",
   "execution_count": 47,
   "id": "d35648aa",
   "metadata": {},
   "outputs": [
    {
     "name": "stdout",
     "output_type": "stream",
     "text": [
      "('LIMANA ARRO', 'lima na araw', 78)\n",
      "Corresponding to this choice range:  4 - 6 na araw\n",
      "('TWENTY FIVE MINUTES', 'twenty five minutes', 100)\n",
      "Corresponding to this choice range:  1 - 30 na minuto\n",
      "('ISA HANGARD THAT LONG PUT MINU DO', 'labing-isa hanggang dalawampu minuto', 58)\n",
      "('ISANLINGUM', 'isang linggo', 73)\n",
      "Corresponding to this choice range:  1 - 2 linggo\n",
      "('SIXTEEN MINUTES', 'sixteen minutes', 100)\n",
      "Corresponding to this choice range:  11 hanggang 20 minuto\n",
      "('ANTIBIOTICS', 'antibiotics', 100)\n",
      "('APAT HANGANG ALIM NA ARO', 'apat hanggang anim na araw', 88)\n",
      "('LIMA HAMDAM  PITO NAADO', 'lima - pito na araw', 73)\n",
      "('CULAY ROSAS', 'kulay rosas', 91)\n",
      "('NADULAS OR NAHOLU', 'nadulas/nahulog', 77)\n"
     ]
    }
   ],
   "source": [
    "for item in mapped_transcripts:\n",
    "    print(item)\n",
    "    if item[1] in new_file_contents[max_cap:]:\n",
    "        print(\"Corresponding to this choice range: \", dictionaryTagalogRanges[item[1]])"
   ]
  },
  {
   "cell_type": "markdown",
   "id": "36244273",
   "metadata": {},
   "source": [
    "### Experiment on FastAPI server"
   ]
  },
  {
   "cell_type": "code",
   "execution_count": 90,
   "id": "ae9b3918",
   "metadata": {},
   "outputs": [
    {
     "data": {
      "text/plain": [
       "'D:\\\\Coding Projects\\\\OJT2\\\\SpeechRecog+SpellingCorrect\\\\speech_input_audio\\\\res_0003.wav'"
      ]
     },
     "execution_count": 90,
     "metadata": {},
     "output_type": "execute_result"
    }
   ],
   "source": [
    "audio_files[2]"
   ]
  },
  {
   "cell_type": "code",
   "execution_count": 54,
   "id": "60559dc9",
   "metadata": {},
   "outputs": [
    {
     "name": "stdout",
     "output_type": "stream",
     "text": [
      "Result--> {'transcription': ['SIXTEEN MINUTES', 'skin irritants', 55]}\n"
     ]
    }
   ],
   "source": [
    "# Define the API endpoint\n",
    "url = \"http://127.0.0.1:8000/transcribe/\"\n",
    "\n",
    "audio_file_path = audio_files[4]\n",
    "\n",
    "with open(audio_file_path, \"rb\") as audio_file:\n",
    "    files = {\"file\": audio_file}\n",
    "    response = requests.post(url, files=files)\n",
    "\n",
    "if response.status_code == 200:\n",
    "    print(\"Result-->\", response.json())\n",
    "else:\n",
    "    print(\"Failed to transcribe audio. Status code:\", response.status_code)"
   ]
  },
  {
   "cell_type": "code",
   "execution_count": null,
   "id": "72520316",
   "metadata": {},
   "outputs": [],
   "source": [
    "response.json()[\"transcription\"][1]"
   ]
  },
  {
   "cell_type": "markdown",
   "id": "cca89945",
   "metadata": {},
   "source": [
    "### 2nd Experiment"
   ]
  },
  {
   "cell_type": "code",
   "execution_count": null,
   "id": "81ee7e8d",
   "metadata": {},
   "outputs": [],
   "source": []
  },
  {
   "cell_type": "code",
   "execution_count": null,
   "id": "16784116",
   "metadata": {},
   "outputs": [],
   "source": []
  },
  {
   "cell_type": "code",
   "execution_count": 49,
   "id": "f3cc5c9e",
   "metadata": {},
   "outputs": [
    {
     "name": "stdout",
     "output_type": "stream",
     "text": [
      "Transcription Successful!\n",
      "{'transcription': 'LIMANA ARRO', 'match': 'nalimutan ko', 'score': 61}\n"
     ]
    }
   ],
   "source": [
    "# The URL of your FastAPI endpoint\n",
    "url = \"http://localhost:8000/transcribe2/\"\n",
    "\n",
    "# Path to the audio file you want to upload\n",
    "audio_file_path = audio_files[0]\n",
    "\n",
    "# The list of labels\n",
    "labels = [\"label1\", \"label2\", \"label3\"]\n",
    "\n",
    "# Prepare the files and data to be sent in the POST request\n",
    "files = {'file': open(audio_file_path, 'rb')}\n",
    "data = {'labels': labels}\n",
    "\n",
    "# Send the POST request\n",
    "response = requests.post(url, files=files, data=data)\n",
    "\n",
    "# Check the response\n",
    "if response.status_code == 200:\n",
    "    print(\"Transcription Successful!\")\n",
    "    print(response.json())\n",
    "else:\n",
    "    print(f\"Error: {response.status_code}\")\n",
    "    print(response.text)"
   ]
  },
  {
   "cell_type": "markdown",
   "id": "fcdae247",
   "metadata": {},
   "source": [
    "for debugging purpose"
   ]
  },
  {
   "cell_type": "markdown",
   "id": "2c2d92c4",
   "metadata": {},
   "source": [
    "response ==> dictionaryTagalogRanges ==> new_file_contents ==> new_file_content"
   ]
  },
  {
   "cell_type": "code",
   "execution_count": null,
   "id": "3aed215b",
   "metadata": {},
   "outputs": [],
   "source": [
    "random_element = random.sample(new_file_contents, 5)\n",
    "print(random_element)"
   ]
  },
  {
   "cell_type": "markdown",
   "id": "82f02a1d",
   "metadata": {},
   "source": [
    "for i, j in zip(file_contents, new_file_contents):\n",
    "    print(f\"{i} @ {j}\")"
   ]
  }
 ],
 "metadata": {
  "kernelspec": {
   "display_name": "Python 3 (ipykernel)",
   "language": "python",
   "name": "python3"
  },
  "language_info": {
   "codemirror_mode": {
    "name": "ipython",
    "version": 3
   },
   "file_extension": ".py",
   "mimetype": "text/x-python",
   "name": "python",
   "nbconvert_exporter": "python",
   "pygments_lexer": "ipython3",
   "version": "3.10.4"
  },
  "toc": {
   "base_numbering": 1,
   "nav_menu": {
    "height": "220px",
    "width": "414px"
   },
   "number_sections": true,
   "sideBar": true,
   "skip_h1_title": false,
   "title_cell": "Table of Contents",
   "title_sidebar": "Contents",
   "toc_cell": false,
   "toc_position": {},
   "toc_section_display": true,
   "toc_window_display": false
  }
 },
 "nbformat": 4,
 "nbformat_minor": 5
}
